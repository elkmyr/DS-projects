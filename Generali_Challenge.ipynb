{
 "cells": [
  {
   "cell_type": "markdown",
   "metadata": {},
   "source": [
    "# Building Claim Prediction - GENERALI\n",
    "\n",
    "\n",
    "### ***Alexandre TRENDEL, Nicolas HUBERT***"
   ]
  },
  {
   "cell_type": "markdown",
   "metadata": {},
   "source": [
    "L’objectif de ce challenge est de prédire si un bâtiment assuré par GENERALI estsusceptible de déposer a minima une réclamation d’assurance durant une période donnée. Il s’agit donc d’un problème de classification supervisée – les valeurs des *targets* binaires à prédire étant conservées par GENERALI.\n",
    "La métrique retenue pour évaluer la précision avec laquelle les prédictions sont faites est le coefficient normalisé de Gini. La définition donnée pour le challenge est quelque peu différente de la version usuelle, et permet de comparer des probabilités à de vraies *targets*.\n",
    "\n",
    "Pour plus d'informations sur le challenge et les métriques utilisées, se référer au rapport (format pdf) présent dans le même *repository*.\n"
   ]
  },
  {
   "cell_type": "code",
   "execution_count": null,
   "metadata": {},
   "outputs": [],
   "source": [
    "import numpy as np \n",
    "import pandas as pd \n",
    "import matplotlib.pyplot as plt\n",
    "%matplotlib inline\n",
    "\n",
    "from sklearn.utils import shuffle\n",
    "from sklearn.impute import SimpleImputer\n",
    "from sklearn.decomposition import PCA"
   ]
  },
  {
   "cell_type": "code",
   "execution_count": 2,
   "metadata": {},
   "outputs": [],
   "source": [
    "import numpy as np\n",
    "\n",
    "def gini(actual, pred):\n",
    "    assert (len(actual) == len(pred))\n",
    "    all = np.asarray(np.c_[actual, pred, np.arange(len(actual))], dtype=np.float)\n",
    "    all = all[np.lexsort((all[:, 2], -1 * all[:, 1]))]\n",
    "    totalLosses = all[:, 0].sum()\n",
    "    giniSum = all[:, 0].cumsum().sum() / totalLosses\n",
    "\n",
    "    giniSum -= (len(actual) + 1) / 2.\n",
    "    return giniSum / len(actual)\n",
    "\n",
    "\n",
    "def gini_normalized(actual, pred):\n",
    "    return gini(actual, pred) / gini(actual, actual)"
   ]
  },
  {
   "cell_type": "markdown",
   "metadata": {},
   "source": [
    "# Import des données\n",
    "\n",
    "## Généralités"
   ]
  },
  {
   "cell_type": "code",
   "execution_count": 3,
   "metadata": {
    "scrolled": false
   },
   "outputs": [
    {
     "name": "stdout",
     "output_type": "stream",
     "text": [
      "(10229, 26)\n"
     ]
    },
    {
     "data": {
      "text/html": [
       "<div>\n",
       "<style scoped>\n",
       "    .dataframe tbody tr th:only-of-type {\n",
       "        vertical-align: middle;\n",
       "    }\n",
       "\n",
       "    .dataframe tbody tr th {\n",
       "        vertical-align: top;\n",
       "    }\n",
       "\n",
       "    .dataframe thead th {\n",
       "        text-align: right;\n",
       "    }\n",
       "</style>\n",
       "<table border=\"1\" class=\"dataframe\">\n",
       "  <thead>\n",
       "    <tr style=\"text-align: right;\">\n",
       "      <th></th>\n",
       "      <th>Identifiant</th>\n",
       "      <th>ft_2_categ</th>\n",
       "      <th>EXPO</th>\n",
       "      <th>ft_4_categ</th>\n",
       "      <th>ft_5_categ</th>\n",
       "      <th>ft_6_categ</th>\n",
       "      <th>ft_7_categ</th>\n",
       "      <th>ft_8_categ</th>\n",
       "      <th>ft_9_categ</th>\n",
       "      <th>ft_10_categ</th>\n",
       "      <th>...</th>\n",
       "      <th>ft_17_categ</th>\n",
       "      <th>ft_18_categ</th>\n",
       "      <th>ft_19_categ</th>\n",
       "      <th>superficief</th>\n",
       "      <th>ft_21_categ</th>\n",
       "      <th>ft_22_categ</th>\n",
       "      <th>ft_23_categ</th>\n",
       "      <th>ft_24_categ</th>\n",
       "      <th>Insee</th>\n",
       "      <th>target</th>\n",
       "    </tr>\n",
       "  </thead>\n",
       "  <tbody>\n",
       "    <tr>\n",
       "      <th>0</th>\n",
       "      <td>18702</td>\n",
       "      <td>2014</td>\n",
       "      <td>1.000000</td>\n",
       "      <td>0</td>\n",
       "      <td>V</td>\n",
       "      <td>N</td>\n",
       "      <td>1</td>\n",
       "      <td>O</td>\n",
       "      <td>1</td>\n",
       "      <td>O</td>\n",
       "      <td>...</td>\n",
       "      <td>V</td>\n",
       "      <td>base</td>\n",
       "      <td>2</td>\n",
       "      <td>1351.0</td>\n",
       "      <td>4</td>\n",
       "      <td>2012.0</td>\n",
       "      <td>0.0</td>\n",
       "      <td>2</td>\n",
       "      <td>65440</td>\n",
       "      <td>0</td>\n",
       "    </tr>\n",
       "    <tr>\n",
       "      <th>1</th>\n",
       "      <td>3877</td>\n",
       "      <td>2014</td>\n",
       "      <td>1.000000</td>\n",
       "      <td>0</td>\n",
       "      <td>V</td>\n",
       "      <td>V</td>\n",
       "      <td>V</td>\n",
       "      <td>V</td>\n",
       "      <td>V</td>\n",
       "      <td>V</td>\n",
       "      <td>...</td>\n",
       "      <td>N</td>\n",
       "      <td>base</td>\n",
       "      <td>2</td>\n",
       "      <td>1972.0</td>\n",
       "      <td>2</td>\n",
       "      <td>1980.0</td>\n",
       "      <td>0.0</td>\n",
       "      <td>.</td>\n",
       "      <td>14341</td>\n",
       "      <td>1</td>\n",
       "    </tr>\n",
       "    <tr>\n",
       "      <th>2</th>\n",
       "      <td>4942</td>\n",
       "      <td>2013</td>\n",
       "      <td>1.000000</td>\n",
       "      <td>1</td>\n",
       "      <td>V</td>\n",
       "      <td>V</td>\n",
       "      <td>V</td>\n",
       "      <td>V</td>\n",
       "      <td>V</td>\n",
       "      <td>V</td>\n",
       "      <td>...</td>\n",
       "      <td>N</td>\n",
       "      <td>base</td>\n",
       "      <td>2</td>\n",
       "      <td>1630.0</td>\n",
       "      <td>4</td>\n",
       "      <td>NaN</td>\n",
       "      <td>0.0</td>\n",
       "      <td>.</td>\n",
       "      <td>75109</td>\n",
       "      <td>0</td>\n",
       "    </tr>\n",
       "    <tr>\n",
       "      <th>3</th>\n",
       "      <td>13428</td>\n",
       "      <td>2013</td>\n",
       "      <td>0.246575</td>\n",
       "      <td>0</td>\n",
       "      <td>N</td>\n",
       "      <td>V</td>\n",
       "      <td>V</td>\n",
       "      <td>V</td>\n",
       "      <td>V</td>\n",
       "      <td>V</td>\n",
       "      <td>...</td>\n",
       "      <td>N</td>\n",
       "      <td>base</td>\n",
       "      <td>2</td>\n",
       "      <td>532.0</td>\n",
       "      <td>3</td>\n",
       "      <td>NaN</td>\n",
       "      <td>0.0</td>\n",
       "      <td>.</td>\n",
       "      <td>92004</td>\n",
       "      <td>0</td>\n",
       "    </tr>\n",
       "    <tr>\n",
       "      <th>4</th>\n",
       "      <td>17137</td>\n",
       "      <td>2015</td>\n",
       "      <td>1.000000</td>\n",
       "      <td>0</td>\n",
       "      <td>V</td>\n",
       "      <td>N</td>\n",
       "      <td>2</td>\n",
       "      <td>O</td>\n",
       "      <td>1</td>\n",
       "      <td>O</td>\n",
       "      <td>...</td>\n",
       "      <td>V</td>\n",
       "      <td>base</td>\n",
       "      <td>2</td>\n",
       "      <td>1050.0</td>\n",
       "      <td>2</td>\n",
       "      <td>1972.0</td>\n",
       "      <td>0.0</td>\n",
       "      <td>4</td>\n",
       "      <td>59340</td>\n",
       "      <td>0</td>\n",
       "    </tr>\n",
       "  </tbody>\n",
       "</table>\n",
       "<p>5 rows × 26 columns</p>\n",
       "</div>"
      ],
      "text/plain": [
       "   Identifiant  ft_2_categ      EXPO  ft_4_categ ft_5_categ ft_6_categ  \\\n",
       "0        18702        2014  1.000000           0          V          N   \n",
       "1         3877        2014  1.000000           0          V          V   \n",
       "2         4942        2013  1.000000           1          V          V   \n",
       "3        13428        2013  0.246575           0          N          V   \n",
       "4        17137        2015  1.000000           0          V          N   \n",
       "\n",
       "  ft_7_categ ft_8_categ ft_9_categ ft_10_categ  ... ft_17_categ ft_18_categ  \\\n",
       "0          1          O          1           O  ...           V        base   \n",
       "1          V          V          V           V  ...           N        base   \n",
       "2          V          V          V           V  ...           N        base   \n",
       "3          V          V          V           V  ...           N        base   \n",
       "4          2          O          1           O  ...           V        base   \n",
       "\n",
       "  ft_19_categ superficief ft_21_categ ft_22_categ ft_23_categ ft_24_categ  \\\n",
       "0           2      1351.0           4      2012.0         0.0           2   \n",
       "1           2      1972.0           2      1980.0         0.0           .   \n",
       "2           2      1630.0           4         NaN         0.0           .   \n",
       "3           2       532.0           3         NaN         0.0           .   \n",
       "4           2      1050.0           2      1972.0         0.0           4   \n",
       "\n",
       "   Insee target  \n",
       "0  65440      0  \n",
       "1  14341      1  \n",
       "2  75109      0  \n",
       "3  92004      0  \n",
       "4  59340      0  \n",
       "\n",
       "[5 rows x 26 columns]"
      ]
     },
     "execution_count": 3,
     "metadata": {},
     "output_type": "execute_result"
    }
   ],
   "source": [
    "train = pd.read_csv(\"X_train.csv\", index_col=0, decimal = \",\")\n",
    "test = pd.read_csv(\"X_test.csv\", index_col=0, decimal = \",\")\n",
    "ytrain = pd.read_csv(\"y_train_saegPGl.csv\", index_col=0, decimal = \",\")\n",
    "\n",
    "train = pd.merge(train, ytrain, on=\"Identifiant\")\n",
    "\n",
    "print(train.shape)\n",
    "train.head()"
   ]
  },
  {
   "cell_type": "markdown",
   "metadata": {},
   "source": [
    "Une analyse plus fine est nécessaire au vu des nombreuses variables catégorielles."
   ]
  },
  {
   "cell_type": "code",
   "execution_count": 4,
   "metadata": {},
   "outputs": [
    {
     "data": {
      "image/png": "[encoded data removed]",
      "text/plain": [
       "<Figure size 288x288 with 2 Axes>"
      ]
     },
     "metadata": {
      "needs_background": "light"
     },
     "output_type": "display_data"
    }
   ],
   "source": [
    "plt.matshow(train.corr())\n",
    "plt.colorbar()\n",
    "plt.show()"
   ]
  },
  {
   "cell_type": "markdown",
   "metadata": {},
   "source": [
    "***Nettoyage des données*** : on enleve les lignes dupliquées s'il y en a, on convertit les types si besoin, et on impute les données manquantes."
   ]
  },
  {
   "cell_type": "code",
   "execution_count": 5,
   "metadata": {},
   "outputs": [],
   "source": [
    "def clean_data(df):\n",
    "    df.drop_duplicates()\n",
    "    # on ajoute la médiane là où les données sont manquantes\n",
    "    imp = SimpleImputer(missing_values = np.nan, strategy = 'median')\n",
    "    df[\"superficief\"] = imp.fit_transform(df[[\"superficief\"]])\n",
    "    df[\"ft_22_categ\"] = imp.fit_transform(df[[\"ft_22_categ\"]])\n",
    "    df[\"ft_22_categ\"] = df[\"ft_22_categ\"].astype(int)\n",
    "    df[\"superficief\"] = df[\"superficief\"].astype(int)\n",
    "    # département : 2 premiers digits de l'INSEE\n",
    "    df['dep'] = df['Insee'].apply(lambda x: str(x)[:2]).astype('object')\n",
    "    df.apply(pd.to_numeric, errors = \"ignore\")"
   ]
  },
  {
   "cell_type": "code",
   "execution_count": 6,
   "metadata": {},
   "outputs": [],
   "source": [
    "clean_data(train)\n",
    "clean_data(test)\n",
    "train.to_csv('final_train.csv')\n",
    "train = pd.read_csv(\"final_train.csv\", index_col = 0)"
   ]
  },
  {
   "cell_type": "code",
   "execution_count": 7,
   "metadata": {
    "scrolled": true
   },
   "outputs": [
    {
     "data": {
      "text/html": [
       "<div>\n",
       "<style scoped>\n",
       "    .dataframe tbody tr th:only-of-type {\n",
       "        vertical-align: middle;\n",
       "    }\n",
       "\n",
       "    .dataframe tbody tr th {\n",
       "        vertical-align: top;\n",
       "    }\n",
       "\n",
       "    .dataframe thead th {\n",
       "        text-align: right;\n",
       "    }\n",
       "</style>\n",
       "<table border=\"1\" class=\"dataframe\">\n",
       "  <thead>\n",
       "    <tr style=\"text-align: right;\">\n",
       "      <th></th>\n",
       "      <th>ft_2_categ</th>\n",
       "      <th>EXPO</th>\n",
       "      <th>ft_4_categ</th>\n",
       "      <th>ft_5_categ</th>\n",
       "      <th>ft_6_categ</th>\n",
       "      <th>ft_7_categ</th>\n",
       "      <th>ft_8_categ</th>\n",
       "      <th>ft_9_categ</th>\n",
       "      <th>ft_10_categ</th>\n",
       "      <th>ft_11_categ</th>\n",
       "      <th>...</th>\n",
       "      <th>ft_15_categ</th>\n",
       "      <th>ft_16_categ</th>\n",
       "      <th>ft_17_categ</th>\n",
       "      <th>ft_18_categ</th>\n",
       "      <th>ft_19_categ</th>\n",
       "      <th>superficief</th>\n",
       "      <th>ft_21_categ</th>\n",
       "      <th>ft_22_categ</th>\n",
       "      <th>ft_23_categ</th>\n",
       "      <th>ft_24_categ</th>\n",
       "    </tr>\n",
       "  </thead>\n",
       "  <tbody>\n",
       "    <tr>\n",
       "      <th>0</th>\n",
       "      <td>2014</td>\n",
       "      <td>1.000000</td>\n",
       "      <td>0</td>\n",
       "      <td>V</td>\n",
       "      <td>N</td>\n",
       "      <td>1</td>\n",
       "      <td>O</td>\n",
       "      <td>1</td>\n",
       "      <td>O</td>\n",
       "      <td>N</td>\n",
       "      <td>...</td>\n",
       "      <td>AUTRE</td>\n",
       "      <td>IDENTIQUE</td>\n",
       "      <td>V</td>\n",
       "      <td>base</td>\n",
       "      <td>2</td>\n",
       "      <td>1351</td>\n",
       "      <td>4</td>\n",
       "      <td>2012</td>\n",
       "      <td>0.0</td>\n",
       "      <td>2</td>\n",
       "    </tr>\n",
       "    <tr>\n",
       "      <th>1</th>\n",
       "      <td>2014</td>\n",
       "      <td>1.000000</td>\n",
       "      <td>0</td>\n",
       "      <td>V</td>\n",
       "      <td>V</td>\n",
       "      <td>V</td>\n",
       "      <td>V</td>\n",
       "      <td>V</td>\n",
       "      <td>V</td>\n",
       "      <td>V</td>\n",
       "      <td>...</td>\n",
       "      <td>V</td>\n",
       "      <td>V</td>\n",
       "      <td>N</td>\n",
       "      <td>base</td>\n",
       "      <td>2</td>\n",
       "      <td>1972</td>\n",
       "      <td>2</td>\n",
       "      <td>1980</td>\n",
       "      <td>0.0</td>\n",
       "      <td>.</td>\n",
       "    </tr>\n",
       "    <tr>\n",
       "      <th>2</th>\n",
       "      <td>2013</td>\n",
       "      <td>1.000000</td>\n",
       "      <td>1</td>\n",
       "      <td>V</td>\n",
       "      <td>V</td>\n",
       "      <td>V</td>\n",
       "      <td>V</td>\n",
       "      <td>V</td>\n",
       "      <td>V</td>\n",
       "      <td>V</td>\n",
       "      <td>...</td>\n",
       "      <td>V</td>\n",
       "      <td>V</td>\n",
       "      <td>N</td>\n",
       "      <td>base</td>\n",
       "      <td>2</td>\n",
       "      <td>1630</td>\n",
       "      <td>4</td>\n",
       "      <td>1970</td>\n",
       "      <td>0.0</td>\n",
       "      <td>.</td>\n",
       "    </tr>\n",
       "    <tr>\n",
       "      <th>3</th>\n",
       "      <td>2013</td>\n",
       "      <td>0.246575</td>\n",
       "      <td>0</td>\n",
       "      <td>N</td>\n",
       "      <td>V</td>\n",
       "      <td>V</td>\n",
       "      <td>V</td>\n",
       "      <td>V</td>\n",
       "      <td>V</td>\n",
       "      <td>V</td>\n",
       "      <td>...</td>\n",
       "      <td>V</td>\n",
       "      <td>V</td>\n",
       "      <td>N</td>\n",
       "      <td>base</td>\n",
       "      <td>2</td>\n",
       "      <td>532</td>\n",
       "      <td>3</td>\n",
       "      <td>1970</td>\n",
       "      <td>0.0</td>\n",
       "      <td>.</td>\n",
       "    </tr>\n",
       "    <tr>\n",
       "      <th>4</th>\n",
       "      <td>2015</td>\n",
       "      <td>1.000000</td>\n",
       "      <td>0</td>\n",
       "      <td>V</td>\n",
       "      <td>N</td>\n",
       "      <td>2</td>\n",
       "      <td>O</td>\n",
       "      <td>1</td>\n",
       "      <td>O</td>\n",
       "      <td>N</td>\n",
       "      <td>...</td>\n",
       "      <td>AUTRE</td>\n",
       "      <td>IDENTIQUE</td>\n",
       "      <td>V</td>\n",
       "      <td>base</td>\n",
       "      <td>2</td>\n",
       "      <td>1050</td>\n",
       "      <td>2</td>\n",
       "      <td>1972</td>\n",
       "      <td>0.0</td>\n",
       "      <td>4</td>\n",
       "    </tr>\n",
       "  </tbody>\n",
       "</table>\n",
       "<p>5 rows × 23 columns</p>\n",
       "</div>"
      ],
      "text/plain": [
       "   ft_2_categ      EXPO  ft_4_categ ft_5_categ ft_6_categ ft_7_categ  \\\n",
       "0        2014  1.000000           0          V          N          1   \n",
       "1        2014  1.000000           0          V          V          V   \n",
       "2        2013  1.000000           1          V          V          V   \n",
       "3        2013  0.246575           0          N          V          V   \n",
       "4        2015  1.000000           0          V          N          2   \n",
       "\n",
       "  ft_8_categ ft_9_categ ft_10_categ ft_11_categ  ... ft_15_categ ft_16_categ  \\\n",
       "0          O          1           O           N  ...       AUTRE   IDENTIQUE   \n",
       "1          V          V           V           V  ...           V           V   \n",
       "2          V          V           V           V  ...           V           V   \n",
       "3          V          V           V           V  ...           V           V   \n",
       "4          O          1           O           N  ...       AUTRE   IDENTIQUE   \n",
       "\n",
       "  ft_17_categ ft_18_categ ft_19_categ superficief ft_21_categ  ft_22_categ  \\\n",
       "0           V        base           2        1351           4         2012   \n",
       "1           N        base           2        1972           2         1980   \n",
       "2           N        base           2        1630           4         1970   \n",
       "3           N        base           2         532           3         1970   \n",
       "4           V        base           2        1050           2         1972   \n",
       "\n",
       "   ft_23_categ  ft_24_categ  \n",
       "0          0.0            2  \n",
       "1          0.0            .  \n",
       "2          0.0            .  \n",
       "3          0.0            .  \n",
       "4          0.0            4  \n",
       "\n",
       "[5 rows x 23 columns]"
      ]
     },
     "execution_count": 7,
     "metadata": {},
     "output_type": "execute_result"
    }
   ],
   "source": [
    "# on enleve insee + target + ... qui vont nous embeter pour la suite\n",
    "filtered = train.drop(columns = [\"Insee\", \"target\", \"Identifiant\", \"dep\"])\n",
    "filtered.head()"
   ]
  },
  {
   "cell_type": "code",
   "execution_count": 8,
   "metadata": {},
   "outputs": [
    {
     "data": {
      "text/plain": [
       "Index(['ft_5_categ', 'ft_6_categ', 'ft_7_categ', 'ft_8_categ', 'ft_9_categ',\n",
       "       'ft_10_categ', 'ft_11_categ', 'ft_12_categ', 'ft_13_categ',\n",
       "       'ft_14_categ', 'ft_15_categ', 'ft_16_categ', 'ft_17_categ',\n",
       "       'ft_18_categ', 'ft_23_categ', 'ft_24_categ', 'Insee', 'dep'],\n",
       "      dtype='object')"
      ]
     },
     "execution_count": 8,
     "metadata": {},
     "output_type": "execute_result"
    }
   ],
   "source": [
    "train.columns[train.dtypes == 'object']"
   ]
  },
  {
   "cell_type": "markdown",
   "metadata": {},
   "source": [
    "## One Hot Encoding\n",
    "\n",
    "One Hot Encoding d'un dataframe Pandas."
   ]
  },
  {
   "cell_type": "code",
   "execution_count": 9,
   "metadata": {},
   "outputs": [
    {
     "data": {
      "text/plain": [
       "['ft_5_categ',\n",
       " 'ft_6_categ',\n",
       " 'ft_7_categ',\n",
       " 'ft_8_categ',\n",
       " 'ft_9_categ',\n",
       " 'ft_10_categ',\n",
       " 'ft_11_categ',\n",
       " 'ft_12_categ',\n",
       " 'ft_13_categ',\n",
       " 'ft_14_categ',\n",
       " 'ft_15_categ',\n",
       " 'ft_16_categ',\n",
       " 'ft_17_categ',\n",
       " 'ft_18_categ',\n",
       " 'ft_23_categ',\n",
       " 'ft_24_categ']"
      ]
     },
     "execution_count": 9,
     "metadata": {},
     "output_type": "execute_result"
    }
   ],
   "source": [
    "from sklearn.linear_model import LogisticRegression\n",
    "from sklearn.preprocessing import OneHotEncoder\n",
    "from sklearn.compose import ColumnTransformer\n",
    "from sklearn.model_selection import train_test_split\n",
    "\n",
    "# one hot encoding de notre dataframe\n",
    "# renvoie un dict avec transformer : l'objet transformer\n",
    "# result : le df nettoyé, sous forme d'array\n",
    "# names : les colonnes catégorielles traitées\n",
    "def ohe_df(df):\n",
    "\n",
    "    cols = list(df.columns)\n",
    "    names = list(df.columns[df.dtypes == 'object'])\n",
    "    # pour chacun des types categoriels, on fait du one hot encoding\n",
    "    transform_cat = [(name, OneHotEncoder(categories = \"auto\"), [cols.index(name)]) for name in names]\n",
    "\n",
    "    tr = ColumnTransformer(transform_cat, remainder = 'passthrough')\n",
    "    tr.fit(df.values)\n",
    "\n",
    "    return dict(transformer = tr, result = tr.transform(df.values).astype(float), names = names)\n",
    "\n",
    "res = ohe_df(filtered)\n",
    "transformed = res[\"result\"]\n",
    "y = train[\"target\"].values\n",
    "xtrain, xtest, ytrain, ytest = train_test_split(transformed, y, test_size = 0.2)\n",
    "res[\"names\"]"
   ]
  },
  {
   "cell_type": "code",
   "execution_count": 10,
   "metadata": {},
   "outputs": [
    {
     "data": {
      "image/png": "[encoded data removed]",
      "text/plain": [
       "<Figure size 288x288 with 1 Axes>"
      ]
     },
     "metadata": {
      "needs_background": "light"
     },
     "output_type": "display_data"
    }
   ],
   "source": [
    "plt.matshow(np.corrcoef(transformed, rowvar = False))\n",
    "plt.show()"
   ]
  },
  {
   "cell_type": "markdown",
   "metadata": {},
   "source": [
    "Récupération des slices qui correspondent aux variables catégorielles :"
   ]
  },
  {
   "cell_type": "code",
   "execution_count": 11,
   "metadata": {},
   "outputs": [
    {
     "data": {
      "text/html": [
       "<div>\n",
       "<style scoped>\n",
       "    .dataframe tbody tr th:only-of-type {\n",
       "        vertical-align: middle;\n",
       "    }\n",
       "\n",
       "    .dataframe tbody tr th {\n",
       "        vertical-align: top;\n",
       "    }\n",
       "\n",
       "    .dataframe thead th {\n",
       "        text-align: right;\n",
       "    }\n",
       "</style>\n",
       "<table border=\"1\" class=\"dataframe\">\n",
       "  <thead>\n",
       "    <tr style=\"text-align: right;\">\n",
       "      <th></th>\n",
       "      <th>0</th>\n",
       "      <th>1</th>\n",
       "    </tr>\n",
       "  </thead>\n",
       "  <tbody>\n",
       "    <tr>\n",
       "      <th>0</th>\n",
       "      <td>ft_5_categ</td>\n",
       "      <td>slice(0, 3, None)</td>\n",
       "    </tr>\n",
       "    <tr>\n",
       "      <th>1</th>\n",
       "      <td>ft_6_categ</td>\n",
       "      <td>slice(3, 6, None)</td>\n",
       "    </tr>\n",
       "    <tr>\n",
       "      <th>2</th>\n",
       "      <td>ft_7_categ</td>\n",
       "      <td>slice(6, 10, None)</td>\n",
       "    </tr>\n",
       "    <tr>\n",
       "      <th>3</th>\n",
       "      <td>ft_8_categ</td>\n",
       "      <td>slice(10, 13, None)</td>\n",
       "    </tr>\n",
       "    <tr>\n",
       "      <th>4</th>\n",
       "      <td>ft_9_categ</td>\n",
       "      <td>slice(13, 17, None)</td>\n",
       "    </tr>\n",
       "    <tr>\n",
       "      <th>5</th>\n",
       "      <td>ft_10_categ</td>\n",
       "      <td>slice(17, 20, None)</td>\n",
       "    </tr>\n",
       "    <tr>\n",
       "      <th>6</th>\n",
       "      <td>ft_11_categ</td>\n",
       "      <td>slice(20, 23, None)</td>\n",
       "    </tr>\n",
       "    <tr>\n",
       "      <th>7</th>\n",
       "      <td>ft_12_categ</td>\n",
       "      <td>slice(23, 26, None)</td>\n",
       "    </tr>\n",
       "    <tr>\n",
       "      <th>8</th>\n",
       "      <td>ft_13_categ</td>\n",
       "      <td>slice(26, 29, None)</td>\n",
       "    </tr>\n",
       "    <tr>\n",
       "      <th>9</th>\n",
       "      <td>ft_14_categ</td>\n",
       "      <td>slice(29, 32, None)</td>\n",
       "    </tr>\n",
       "    <tr>\n",
       "      <th>10</th>\n",
       "      <td>ft_15_categ</td>\n",
       "      <td>slice(32, 34, None)</td>\n",
       "    </tr>\n",
       "    <tr>\n",
       "      <th>11</th>\n",
       "      <td>ft_16_categ</td>\n",
       "      <td>slice(34, 36, None)</td>\n",
       "    </tr>\n",
       "    <tr>\n",
       "      <th>12</th>\n",
       "      <td>ft_17_categ</td>\n",
       "      <td>slice(36, 39, None)</td>\n",
       "    </tr>\n",
       "    <tr>\n",
       "      <th>13</th>\n",
       "      <td>ft_18_categ</td>\n",
       "      <td>slice(39, 44, None)</td>\n",
       "    </tr>\n",
       "    <tr>\n",
       "      <th>14</th>\n",
       "      <td>ft_23_categ</td>\n",
       "      <td>slice(44, 51, None)</td>\n",
       "    </tr>\n",
       "    <tr>\n",
       "      <th>15</th>\n",
       "      <td>ft_24_categ</td>\n",
       "      <td>slice(51, 62, None)</td>\n",
       "    </tr>\n",
       "    <tr>\n",
       "      <th>16</th>\n",
       "      <td>ft_2_categ</td>\n",
       "      <td>62</td>\n",
       "    </tr>\n",
       "    <tr>\n",
       "      <th>17</th>\n",
       "      <td>EXPO</td>\n",
       "      <td>63</td>\n",
       "    </tr>\n",
       "    <tr>\n",
       "      <th>18</th>\n",
       "      <td>ft_4_categ</td>\n",
       "      <td>64</td>\n",
       "    </tr>\n",
       "    <tr>\n",
       "      <th>19</th>\n",
       "      <td>ft_19_categ</td>\n",
       "      <td>65</td>\n",
       "    </tr>\n",
       "    <tr>\n",
       "      <th>20</th>\n",
       "      <td>superficief</td>\n",
       "      <td>66</td>\n",
       "    </tr>\n",
       "    <tr>\n",
       "      <th>21</th>\n",
       "      <td>ft_21_categ</td>\n",
       "      <td>67</td>\n",
       "    </tr>\n",
       "    <tr>\n",
       "      <th>22</th>\n",
       "      <td>ft_22_categ</td>\n",
       "      <td>68</td>\n",
       "    </tr>\n",
       "  </tbody>\n",
       "</table>\n",
       "</div>"
      ],
      "text/plain": [
       "              0                    1\n",
       "0    ft_5_categ    slice(0, 3, None)\n",
       "1    ft_6_categ    slice(3, 6, None)\n",
       "2    ft_7_categ   slice(6, 10, None)\n",
       "3    ft_8_categ  slice(10, 13, None)\n",
       "4    ft_9_categ  slice(13, 17, None)\n",
       "5   ft_10_categ  slice(17, 20, None)\n",
       "6   ft_11_categ  slice(20, 23, None)\n",
       "7   ft_12_categ  slice(23, 26, None)\n",
       "8   ft_13_categ  slice(26, 29, None)\n",
       "9   ft_14_categ  slice(29, 32, None)\n",
       "10  ft_15_categ  slice(32, 34, None)\n",
       "11  ft_16_categ  slice(34, 36, None)\n",
       "12  ft_17_categ  slice(36, 39, None)\n",
       "13  ft_18_categ  slice(39, 44, None)\n",
       "14  ft_23_categ  slice(44, 51, None)\n",
       "15  ft_24_categ  slice(51, 62, None)\n",
       "16   ft_2_categ                   62\n",
       "17         EXPO                   63\n",
       "18   ft_4_categ                   64\n",
       "19  ft_19_categ                   65\n",
       "20  superficief                   66\n",
       "21  ft_21_categ                   67\n",
       "22  ft_22_categ                   68"
      ]
     },
     "execution_count": 11,
     "metadata": {},
     "output_type": "execute_result"
    }
   ],
   "source": [
    "def get_slices(res):\n",
    "    tr = res[\"transformer\"]\n",
    "    names = res[\"names\"]\n",
    "\n",
    "    # nombre de colonnes après encodage = nombre de catégories\n",
    "    sizes = [0]\n",
    "    sizes.extend([len(tr.named_transformers_[name].categories_[0]) for name in names])\n",
    "    sizes = np.array(sizes).cumsum()\n",
    "    \n",
    "    # np.s_ crée une slice, utilisable par la suite pour indexer un array\n",
    "    slices = [np.s_[sizes[i]:sizes[i+1]] for i in range(len(sizes) - 1)]\n",
    "\n",
    "    return slices, sizes[-1]\n",
    "\n",
    "names = res[\"names\"]\n",
    "slices, l = get_slices(res)\n",
    "cont_names = list(filtered.columns[filtered.dtypes != 'object'])\n",
    "idcont = list(range(l, l + len(cont_names)))\n",
    "pd.DataFrame(np.transpose([names+ cont_names, slices + idcont]))"
   ]
  },
  {
   "cell_type": "code",
   "execution_count": 12,
   "metadata": {
    "scrolled": true
   },
   "outputs": [
    {
     "data": {
      "text/plain": [
       "(10229, 69)"
      ]
     },
     "execution_count": 12,
     "metadata": {},
     "output_type": "execute_result"
    }
   ],
   "source": [
    "transformed.shape"
   ]
  },
  {
   "cell_type": "markdown",
   "metadata": {},
   "source": [
    "## Un premier essai de régression logistique"
   ]
  },
  {
   "cell_type": "code",
   "execution_count": 13,
   "metadata": {},
   "outputs": [
    {
     "data": {
      "text/plain": [
       "0.39045393672782486"
      ]
     },
     "execution_count": 13,
     "metadata": {},
     "output_type": "execute_result"
    }
   ],
   "source": [
    "logreg_model = LogisticRegression(solver = 'lbfgs', max_iter = 1000)\n",
    "logreg_model.fit(xtrain, ytrain)\n",
    "\n",
    "p1 = logreg_model.predict_proba(xtest)[:,1]\n",
    "gini_normalized(ytest, p1)"
   ]
  },
  {
   "cell_type": "markdown",
   "metadata": {},
   "source": [
    "## Suppression de colonnes via GridSearch"
   ]
  },
  {
   "cell_type": "code",
   "execution_count": 14,
   "metadata": {
    "scrolled": true
   },
   "outputs": [],
   "source": [
    "from sklearn.preprocessing import FunctionTransformer\n",
    "from sklearn.model_selection import GridSearchCV\n",
    "from sklearn.pipeline import Pipeline\n",
    "\n",
    "def make_drop(i):\n",
    "    def drop(x):\n",
    "        return np.delete(x, i, 1)\n",
    "    return drop\n",
    "\n",
    "# pipeline de transformation qui fait la choses suivante : \n",
    "# 1. appel à une étape \"drop\" qui va supprimer certaines features\n",
    "# 2. regression logistique\n",
    "pipeline = Pipeline([\n",
    "    (\"drop\", FunctionTransformer(validate = False)),\n",
    "    (\"logreg\", LogisticRegression(solver = 'lbfgs', max_iter = 1000))\n",
    "])\n",
    "\n",
    "# fonctions qui suppriment une feature one hot encoded (donc on supprime une slice)\n",
    "dropfuns = [make_drop(slice_) for slice_ in slices]\n",
    "\n",
    "dropfuns.insert(0, make_drop(np.s_[0:62]))\n",
    "names.insert(0, \"drop all categorical\")\n",
    "\n",
    "# le param variable du gridsearch est la fonction de suppression, donc chaque recherche se fait en ayant supprimé une var catégorielle dffierente\n",
    "params = dict(drop__func = dropfuns) \n",
    "search = GridSearchCV(pipeline, params, return_train_score = False, cv = 3, n_jobs = -1)\n",
    "search.fit(xtrain, ytrain);"
   ]
  },
  {
   "cell_type": "code",
   "execution_count": 15,
   "metadata": {
    "scrolled": true
   },
   "outputs": [
    {
     "data": {
      "text/html": [
       "<div>\n",
       "<style scoped>\n",
       "    .dataframe tbody tr th:only-of-type {\n",
       "        vertical-align: middle;\n",
       "    }\n",
       "\n",
       "    .dataframe tbody tr th {\n",
       "        vertical-align: top;\n",
       "    }\n",
       "\n",
       "    .dataframe thead th {\n",
       "        text-align: right;\n",
       "    }\n",
       "</style>\n",
       "<table border=\"1\" class=\"dataframe\">\n",
       "  <thead>\n",
       "    <tr style=\"text-align: right;\">\n",
       "      <th></th>\n",
       "      <th>mean_fit_time</th>\n",
       "      <th>std_fit_time</th>\n",
       "      <th>mean_score_time</th>\n",
       "      <th>std_score_time</th>\n",
       "      <th>param_drop__func</th>\n",
       "      <th>params</th>\n",
       "      <th>split0_test_score</th>\n",
       "      <th>split1_test_score</th>\n",
       "      <th>split2_test_score</th>\n",
       "      <th>mean_test_score</th>\n",
       "      <th>std_test_score</th>\n",
       "      <th>rank_test_score</th>\n",
       "    </tr>\n",
       "  </thead>\n",
       "  <tbody>\n",
       "    <tr>\n",
       "      <th>drop all categorical</th>\n",
       "      <td>0.131689</td>\n",
       "      <td>0.027537</td>\n",
       "      <td>0.001618</td>\n",
       "      <td>5.334105e-04</td>\n",
       "      <td>&lt;function make_drop.&lt;locals&gt;.drop at 0x0000028...</td>\n",
       "      <td>{'drop__func': &lt;function make_drop.&lt;locals&gt;.dr...</td>\n",
       "      <td>0.788490</td>\n",
       "      <td>0.786290</td>\n",
       "      <td>0.784378</td>\n",
       "      <td>0.786386</td>\n",
       "      <td>0.001680</td>\n",
       "      <td>17</td>\n",
       "    </tr>\n",
       "    <tr>\n",
       "      <th>ft_5_categ</th>\n",
       "      <td>0.280251</td>\n",
       "      <td>0.051263</td>\n",
       "      <td>0.004323</td>\n",
       "      <td>4.702471e-04</td>\n",
       "      <td>&lt;function make_drop.&lt;locals&gt;.drop at 0x0000028...</td>\n",
       "      <td>{'drop__func': &lt;function make_drop.&lt;locals&gt;.dr...</td>\n",
       "      <td>0.790323</td>\n",
       "      <td>0.787757</td>\n",
       "      <td>0.790979</td>\n",
       "      <td>0.789686</td>\n",
       "      <td>0.001390</td>\n",
       "      <td>3</td>\n",
       "    </tr>\n",
       "    <tr>\n",
       "      <th>ft_6_categ</th>\n",
       "      <td>0.276261</td>\n",
       "      <td>0.045251</td>\n",
       "      <td>0.004987</td>\n",
       "      <td>5.150430e-07</td>\n",
       "      <td>&lt;function make_drop.&lt;locals&gt;.drop at 0x0000028...</td>\n",
       "      <td>{'drop__func': &lt;function make_drop.&lt;locals&gt;.dr...</td>\n",
       "      <td>0.789589</td>\n",
       "      <td>0.787023</td>\n",
       "      <td>0.791713</td>\n",
       "      <td>0.789442</td>\n",
       "      <td>0.001917</td>\n",
       "      <td>6</td>\n",
       "    </tr>\n",
       "    <tr>\n",
       "      <th>ft_7_categ</th>\n",
       "      <td>0.225397</td>\n",
       "      <td>0.026923</td>\n",
       "      <td>0.004986</td>\n",
       "      <td>1.408263e-06</td>\n",
       "      <td>&lt;function make_drop.&lt;locals&gt;.drop at 0x0000028...</td>\n",
       "      <td>{'drop__func': &lt;function make_drop.&lt;locals&gt;.dr...</td>\n",
       "      <td>0.788123</td>\n",
       "      <td>0.787390</td>\n",
       "      <td>0.785479</td>\n",
       "      <td>0.786997</td>\n",
       "      <td>0.001115</td>\n",
       "      <td>16</td>\n",
       "    </tr>\n",
       "    <tr>\n",
       "      <th>ft_8_categ</th>\n",
       "      <td>0.366337</td>\n",
       "      <td>0.139718</td>\n",
       "      <td>0.004987</td>\n",
       "      <td>8.485379e-07</td>\n",
       "      <td>&lt;function make_drop.&lt;locals&gt;.drop at 0x0000028...</td>\n",
       "      <td>{'drop__func': &lt;function make_drop.&lt;locals&gt;.dr...</td>\n",
       "      <td>0.789589</td>\n",
       "      <td>0.787023</td>\n",
       "      <td>0.787679</td>\n",
       "      <td>0.788097</td>\n",
       "      <td>0.001089</td>\n",
       "      <td>9</td>\n",
       "    </tr>\n",
       "    <tr>\n",
       "      <th>ft_9_categ</th>\n",
       "      <td>0.234706</td>\n",
       "      <td>0.032229</td>\n",
       "      <td>0.005319</td>\n",
       "      <td>4.698532e-04</td>\n",
       "      <td>&lt;function make_drop.&lt;locals&gt;.drop at 0x0000028...</td>\n",
       "      <td>{'drop__func': &lt;function make_drop.&lt;locals&gt;.dr...</td>\n",
       "      <td>0.789589</td>\n",
       "      <td>0.787023</td>\n",
       "      <td>0.787679</td>\n",
       "      <td>0.788097</td>\n",
       "      <td>0.001089</td>\n",
       "      <td>9</td>\n",
       "    </tr>\n",
       "    <tr>\n",
       "      <th>ft_10_categ</th>\n",
       "      <td>0.273934</td>\n",
       "      <td>0.043627</td>\n",
       "      <td>0.005757</td>\n",
       "      <td>1.089301e-03</td>\n",
       "      <td>&lt;function make_drop.&lt;locals&gt;.drop at 0x0000028...</td>\n",
       "      <td>{'drop__func': &lt;function make_drop.&lt;locals&gt;.dr...</td>\n",
       "      <td>0.789589</td>\n",
       "      <td>0.787023</td>\n",
       "      <td>0.791713</td>\n",
       "      <td>0.789442</td>\n",
       "      <td>0.001917</td>\n",
       "      <td>6</td>\n",
       "    </tr>\n",
       "    <tr>\n",
       "      <th>ft_11_categ</th>\n",
       "      <td>0.321817</td>\n",
       "      <td>0.017930</td>\n",
       "      <td>0.003978</td>\n",
       "      <td>8.143308e-04</td>\n",
       "      <td>&lt;function make_drop.&lt;locals&gt;.drop at 0x0000028...</td>\n",
       "      <td>{'drop__func': &lt;function make_drop.&lt;locals&gt;.dr...</td>\n",
       "      <td>0.793622</td>\n",
       "      <td>0.787023</td>\n",
       "      <td>0.791713</td>\n",
       "      <td>0.790786</td>\n",
       "      <td>0.002772</td>\n",
       "      <td>1</td>\n",
       "    </tr>\n",
       "    <tr>\n",
       "      <th>ft_12_categ</th>\n",
       "      <td>0.472180</td>\n",
       "      <td>0.035200</td>\n",
       "      <td>0.004958</td>\n",
       "      <td>7.781710e-04</td>\n",
       "      <td>&lt;function make_drop.&lt;locals&gt;.drop at 0x0000028...</td>\n",
       "      <td>{'drop__func': &lt;function make_drop.&lt;locals&gt;.dr...</td>\n",
       "      <td>0.788856</td>\n",
       "      <td>0.788490</td>\n",
       "      <td>0.786579</td>\n",
       "      <td>0.787975</td>\n",
       "      <td>0.000999</td>\n",
       "      <td>12</td>\n",
       "    </tr>\n",
       "    <tr>\n",
       "      <th>ft_13_categ</th>\n",
       "      <td>0.363923</td>\n",
       "      <td>0.097359</td>\n",
       "      <td>0.005908</td>\n",
       "      <td>1.116044e-03</td>\n",
       "      <td>&lt;function make_drop.&lt;locals&gt;.drop at 0x0000028...</td>\n",
       "      <td>{'drop__func': &lt;function make_drop.&lt;locals&gt;.dr...</td>\n",
       "      <td>0.788856</td>\n",
       "      <td>0.787023</td>\n",
       "      <td>0.786945</td>\n",
       "      <td>0.787608</td>\n",
       "      <td>0.000883</td>\n",
       "      <td>15</td>\n",
       "    </tr>\n",
       "    <tr>\n",
       "      <th>ft_14_categ</th>\n",
       "      <td>0.505004</td>\n",
       "      <td>0.222362</td>\n",
       "      <td>0.007957</td>\n",
       "      <td>4.318481e-03</td>\n",
       "      <td>&lt;function make_drop.&lt;locals&gt;.drop at 0x0000028...</td>\n",
       "      <td>{'drop__func': &lt;function make_drop.&lt;locals&gt;.dr...</td>\n",
       "      <td>0.789589</td>\n",
       "      <td>0.788123</td>\n",
       "      <td>0.789146</td>\n",
       "      <td>0.788953</td>\n",
       "      <td>0.000614</td>\n",
       "      <td>8</td>\n",
       "    </tr>\n",
       "    <tr>\n",
       "      <th>ft_15_categ</th>\n",
       "      <td>0.385791</td>\n",
       "      <td>0.110288</td>\n",
       "      <td>0.004655</td>\n",
       "      <td>4.703034e-04</td>\n",
       "      <td>&lt;function make_drop.&lt;locals&gt;.drop at 0x0000028...</td>\n",
       "      <td>{'drop__func': &lt;function make_drop.&lt;locals&gt;.dr...</td>\n",
       "      <td>0.789589</td>\n",
       "      <td>0.787390</td>\n",
       "      <td>0.791713</td>\n",
       "      <td>0.789564</td>\n",
       "      <td>0.001765</td>\n",
       "      <td>4</td>\n",
       "    </tr>\n",
       "    <tr>\n",
       "      <th>ft_16_categ</th>\n",
       "      <td>0.390291</td>\n",
       "      <td>0.133562</td>\n",
       "      <td>0.005343</td>\n",
       "      <td>5.049756e-04</td>\n",
       "      <td>&lt;function make_drop.&lt;locals&gt;.drop at 0x0000028...</td>\n",
       "      <td>{'drop__func': &lt;function make_drop.&lt;locals&gt;.dr...</td>\n",
       "      <td>0.789589</td>\n",
       "      <td>0.787390</td>\n",
       "      <td>0.791713</td>\n",
       "      <td>0.789564</td>\n",
       "      <td>0.001765</td>\n",
       "      <td>4</td>\n",
       "    </tr>\n",
       "    <tr>\n",
       "      <th>ft_17_categ</th>\n",
       "      <td>0.392532</td>\n",
       "      <td>0.057410</td>\n",
       "      <td>0.004741</td>\n",
       "      <td>3.458855e-04</td>\n",
       "      <td>&lt;function make_drop.&lt;locals&gt;.drop at 0x0000028...</td>\n",
       "      <td>{'drop__func': &lt;function make_drop.&lt;locals&gt;.dr...</td>\n",
       "      <td>0.793622</td>\n",
       "      <td>0.787390</td>\n",
       "      <td>0.791346</td>\n",
       "      <td>0.790786</td>\n",
       "      <td>0.002575</td>\n",
       "      <td>1</td>\n",
       "    </tr>\n",
       "    <tr>\n",
       "      <th>ft_18_categ</th>\n",
       "      <td>0.242019</td>\n",
       "      <td>0.049085</td>\n",
       "      <td>0.005651</td>\n",
       "      <td>4.714266e-04</td>\n",
       "      <td>&lt;function make_drop.&lt;locals&gt;.drop at 0x0000028...</td>\n",
       "      <td>{'drop__func': &lt;function make_drop.&lt;locals&gt;.dr...</td>\n",
       "      <td>0.789223</td>\n",
       "      <td>0.788123</td>\n",
       "      <td>0.786945</td>\n",
       "      <td>0.788097</td>\n",
       "      <td>0.000930</td>\n",
       "      <td>9</td>\n",
       "    </tr>\n",
       "    <tr>\n",
       "      <th>ft_23_categ</th>\n",
       "      <td>0.203789</td>\n",
       "      <td>0.006830</td>\n",
       "      <td>0.004987</td>\n",
       "      <td>2.614162e-06</td>\n",
       "      <td>&lt;function make_drop.&lt;locals&gt;.drop at 0x0000028...</td>\n",
       "      <td>{'drop__func': &lt;function make_drop.&lt;locals&gt;.dr...</td>\n",
       "      <td>0.789223</td>\n",
       "      <td>0.786657</td>\n",
       "      <td>0.787679</td>\n",
       "      <td>0.787853</td>\n",
       "      <td>0.001055</td>\n",
       "      <td>13</td>\n",
       "    </tr>\n",
       "    <tr>\n",
       "      <th>ft_24_categ</th>\n",
       "      <td>0.166219</td>\n",
       "      <td>0.031289</td>\n",
       "      <td>0.003670</td>\n",
       "      <td>9.587003e-04</td>\n",
       "      <td>&lt;function make_drop.&lt;locals&gt;.drop at 0x0000028...</td>\n",
       "      <td>{'drop__func': &lt;function make_drop.&lt;locals&gt;.dr...</td>\n",
       "      <td>0.788490</td>\n",
       "      <td>0.788123</td>\n",
       "      <td>0.786945</td>\n",
       "      <td>0.787853</td>\n",
       "      <td>0.000659</td>\n",
       "      <td>13</td>\n",
       "    </tr>\n",
       "  </tbody>\n",
       "</table>\n",
       "</div>"
      ],
      "text/plain": [
       "                      mean_fit_time  std_fit_time  mean_score_time  \\\n",
       "drop all categorical       0.131689      0.027537         0.001618   \n",
       "ft_5_categ                 0.280251      0.051263         0.004323   \n",
       "ft_6_categ                 0.276261      0.045251         0.004987   \n",
       "ft_7_categ                 0.225397      0.026923         0.004986   \n",
       "ft_8_categ                 0.366337      0.139718         0.004987   \n",
       "ft_9_categ                 0.234706      0.032229         0.005319   \n",
       "ft_10_categ                0.273934      0.043627         0.005757   \n",
       "ft_11_categ                0.321817      0.017930         0.003978   \n",
       "ft_12_categ                0.472180      0.035200         0.004958   \n",
       "ft_13_categ                0.363923      0.097359         0.005908   \n",
       "ft_14_categ                0.505004      0.222362         0.007957   \n",
       "ft_15_categ                0.385791      0.110288         0.004655   \n",
       "ft_16_categ                0.390291      0.133562         0.005343   \n",
       "ft_17_categ                0.392532      0.057410         0.004741   \n",
       "ft_18_categ                0.242019      0.049085         0.005651   \n",
       "ft_23_categ                0.203789      0.006830         0.004987   \n",
       "ft_24_categ                0.166219      0.031289         0.003670   \n",
       "\n",
       "                      std_score_time  \\\n",
       "drop all categorical    5.334105e-04   \n",
       "ft_5_categ              4.702471e-04   \n",
       "ft_6_categ              5.150430e-07   \n",
       "ft_7_categ              1.408263e-06   \n",
       "ft_8_categ              8.485379e-07   \n",
       "ft_9_categ              4.698532e-04   \n",
       "ft_10_categ             1.089301e-03   \n",
       "ft_11_categ             8.143308e-04   \n",
       "ft_12_categ             7.781710e-04   \n",
       "ft_13_categ             1.116044e-03   \n",
       "ft_14_categ             4.318481e-03   \n",
       "ft_15_categ             4.703034e-04   \n",
       "ft_16_categ             5.049756e-04   \n",
       "ft_17_categ             3.458855e-04   \n",
       "ft_18_categ             4.714266e-04   \n",
       "ft_23_categ             2.614162e-06   \n",
       "ft_24_categ             9.587003e-04   \n",
       "\n",
       "                                                       param_drop__func  \\\n",
       "drop all categorical  <function make_drop.<locals>.drop at 0x0000028...   \n",
       "ft_5_categ            <function make_drop.<locals>.drop at 0x0000028...   \n",
       "ft_6_categ            <function make_drop.<locals>.drop at 0x0000028...   \n",
       "ft_7_categ            <function make_drop.<locals>.drop at 0x0000028...   \n",
       "ft_8_categ            <function make_drop.<locals>.drop at 0x0000028...   \n",
       "ft_9_categ            <function make_drop.<locals>.drop at 0x0000028...   \n",
       "ft_10_categ           <function make_drop.<locals>.drop at 0x0000028...   \n",
       "ft_11_categ           <function make_drop.<locals>.drop at 0x0000028...   \n",
       "ft_12_categ           <function make_drop.<locals>.drop at 0x0000028...   \n",
       "ft_13_categ           <function make_drop.<locals>.drop at 0x0000028...   \n",
       "ft_14_categ           <function make_drop.<locals>.drop at 0x0000028...   \n",
       "ft_15_categ           <function make_drop.<locals>.drop at 0x0000028...   \n",
       "ft_16_categ           <function make_drop.<locals>.drop at 0x0000028...   \n",
       "ft_17_categ           <function make_drop.<locals>.drop at 0x0000028...   \n",
       "ft_18_categ           <function make_drop.<locals>.drop at 0x0000028...   \n",
       "ft_23_categ           <function make_drop.<locals>.drop at 0x0000028...   \n",
       "ft_24_categ           <function make_drop.<locals>.drop at 0x0000028...   \n",
       "\n",
       "                                                                 params  \\\n",
       "drop all categorical  {'drop__func': <function make_drop.<locals>.dr...   \n",
       "ft_5_categ            {'drop__func': <function make_drop.<locals>.dr...   \n",
       "ft_6_categ            {'drop__func': <function make_drop.<locals>.dr...   \n",
       "ft_7_categ            {'drop__func': <function make_drop.<locals>.dr...   \n",
       "ft_8_categ            {'drop__func': <function make_drop.<locals>.dr...   \n",
       "ft_9_categ            {'drop__func': <function make_drop.<locals>.dr...   \n",
       "ft_10_categ           {'drop__func': <function make_drop.<locals>.dr...   \n",
       "ft_11_categ           {'drop__func': <function make_drop.<locals>.dr...   \n",
       "ft_12_categ           {'drop__func': <function make_drop.<locals>.dr...   \n",
       "ft_13_categ           {'drop__func': <function make_drop.<locals>.dr...   \n",
       "ft_14_categ           {'drop__func': <function make_drop.<locals>.dr...   \n",
       "ft_15_categ           {'drop__func': <function make_drop.<locals>.dr...   \n",
       "ft_16_categ           {'drop__func': <function make_drop.<locals>.dr...   \n",
       "ft_17_categ           {'drop__func': <function make_drop.<locals>.dr...   \n",
       "ft_18_categ           {'drop__func': <function make_drop.<locals>.dr...   \n",
       "ft_23_categ           {'drop__func': <function make_drop.<locals>.dr...   \n",
       "ft_24_categ           {'drop__func': <function make_drop.<locals>.dr...   \n",
       "\n",
       "                      split0_test_score  split1_test_score  split2_test_score  \\\n",
       "drop all categorical           0.788490           0.786290           0.784378   \n",
       "ft_5_categ                     0.790323           0.787757           0.790979   \n",
       "ft_6_categ                     0.789589           0.787023           0.791713   \n",
       "ft_7_categ                     0.788123           0.787390           0.785479   \n",
       "ft_8_categ                     0.789589           0.787023           0.787679   \n",
       "ft_9_categ                     0.789589           0.787023           0.787679   \n",
       "ft_10_categ                    0.789589           0.787023           0.791713   \n",
       "ft_11_categ                    0.793622           0.787023           0.791713   \n",
       "ft_12_categ                    0.788856           0.788490           0.786579   \n",
       "ft_13_categ                    0.788856           0.787023           0.786945   \n",
       "ft_14_categ                    0.789589           0.788123           0.789146   \n",
       "ft_15_categ                    0.789589           0.787390           0.791713   \n",
       "ft_16_categ                    0.789589           0.787390           0.791713   \n",
       "ft_17_categ                    0.793622           0.787390           0.791346   \n",
       "ft_18_categ                    0.789223           0.788123           0.786945   \n",
       "ft_23_categ                    0.789223           0.786657           0.787679   \n",
       "ft_24_categ                    0.788490           0.788123           0.786945   \n",
       "\n",
       "                      mean_test_score  std_test_score  rank_test_score  \n",
       "drop all categorical         0.786386        0.001680               17  \n",
       "ft_5_categ                   0.789686        0.001390                3  \n",
       "ft_6_categ                   0.789442        0.001917                6  \n",
       "ft_7_categ                   0.786997        0.001115               16  \n",
       "ft_8_categ                   0.788097        0.001089                9  \n",
       "ft_9_categ                   0.788097        0.001089                9  \n",
       "ft_10_categ                  0.789442        0.001917                6  \n",
       "ft_11_categ                  0.790786        0.002772                1  \n",
       "ft_12_categ                  0.787975        0.000999               12  \n",
       "ft_13_categ                  0.787608        0.000883               15  \n",
       "ft_14_categ                  0.788953        0.000614                8  \n",
       "ft_15_categ                  0.789564        0.001765                4  \n",
       "ft_16_categ                  0.789564        0.001765                4  \n",
       "ft_17_categ                  0.790786        0.002575                1  \n",
       "ft_18_categ                  0.788097        0.000930                9  \n",
       "ft_23_categ                  0.787853        0.001055               13  \n",
       "ft_24_categ                  0.787853        0.000659               13  "
      ]
     },
     "execution_count": 15,
     "metadata": {},
     "output_type": "execute_result"
    }
   ],
   "source": [
    "pd.DataFrame(search.cv_results_, index = names)"
   ]
  },
  {
   "cell_type": "code",
   "execution_count": 16,
   "metadata": {},
   "outputs": [
    {
     "data": {
      "text/plain": [
       "('ft_11_categ', 0.38793449450213185)"
      ]
     },
     "execution_count": 16,
     "metadata": {},
     "output_type": "execute_result"
    }
   ],
   "source": [
    "best = search.best_estimator_\n",
    "rem = names[dropfuns.index(best.get_params()['drop__func'])]\n",
    "rem, gini_normalized(ytest, best.predict_proba(xtest)[:,1])"
   ]
  },
  {
   "cell_type": "markdown",
   "metadata": {},
   "source": [
    "Finalement, enlever tout le catégoriel ne change pas grand chose..."
   ]
  },
  {
   "cell_type": "markdown",
   "metadata": {},
   "source": [
    "## Tests de Student pour la sélection avant encodage"
   ]
  },
  {
   "cell_type": "code",
   "execution_count": 17,
   "metadata": {},
   "outputs": [
    {
     "data": {
      "text/plain": [
       "(10229, 20)"
      ]
     },
     "execution_count": 17,
     "metadata": {},
     "output_type": "execute_result"
    },
    {
     "data": {
      "image/png": "[encoded data removed]",
      "text/plain": [
       "<Figure size 432x288 with 1 Axes>"
      ]
     },
     "metadata": {
      "needs_background": "light"
     },
     "output_type": "display_data"
    }
   ],
   "source": [
    "from scipy.stats import ttest_ind\n",
    "from itertools import combinations\n",
    "\n",
    "# suppression de colonnes \"greedy\"\n",
    "# renvoie tuple\n",
    "# (path, dropped, df)\n",
    "# path : pvalue de la colonne supprimée à chaque étape\n",
    "# dropped : tableaux avec les noms des colonnes supprimées\n",
    "# df : tableau allégé, de taille k \n",
    "def greedy_tt(df, k, threshold = 0.05):\n",
    "    cat_var = (df.dtypes == 'object').values\n",
    "    k = max(cat_var.sum() - k, 0)\n",
    "    names = list(df.iloc[:,cat_var].columns)\n",
    "    dropped = []\n",
    "    path = []\n",
    "    # jusqu'a ce qu'on ait supprimé k colonnes\n",
    "    for i in range(k):\n",
    "        pvals = ttest(df)\n",
    "        # on regarde la colonne pour laquelle le test a donné une val importante\n",
    "        m = max(pvals)\n",
    "        path.append(m)\n",
    "        # si pval pas assez grande ou = na on s'arrete la\n",
    "        if m != m or m < threshold:\n",
    "            break\n",
    "        # sinon, on va supprimer la colonne correspondante\n",
    "        rem = pvals.index(m)\n",
    "        dropped.append(names[rem])\n",
    "        df = df.drop(columns = [names[rem]])\n",
    "        names.pop(rem)\n",
    "    return path, dropped, df\n",
    "\n",
    "# test de student pour chaque niveau de chaque variable catégorielle\n",
    "def ttest(df):\n",
    "    l = []\n",
    "    cat_var = (df.dtypes == 'object').values\n",
    "    only_num = df.iloc[:,~cat_var]\n",
    "    # pour chaque colonne catégorielle\n",
    "    for column in df.iloc[:, cat_var]:\n",
    "        levels = df[column].astype('category').cat.categories\n",
    "        pval = 0\n",
    "        # pour chaque couple de niveaux\n",
    "        for level_a, level_b in combinations(levels, r = 2):\n",
    "            # test de student\n",
    "            test = ttest_ind(only_num[df[column] == level_a].values, \n",
    "                             only_num[df[column] == level_b].values,\n",
    "                             axis = None)\n",
    "            # on garde la pvalue la plus importante pour une colonne\n",
    "            pval = max(test.pvalue, pval)\n",
    "        l.append(pval)\n",
    "    return l\n",
    "\n",
    "\n",
    "path, dropped, df = greedy_tt(filtered, 5)\n",
    "transformed = ohe_df(df)[\"result\"]\n",
    "\n",
    "plt.plot(np.log(path))\n",
    "transformed.shape"
   ]
  },
  {
   "cell_type": "markdown",
   "metadata": {},
   "source": [
    "## Ajustements de modèles"
   ]
  },
  {
   "cell_type": "code",
   "execution_count": 18,
   "metadata": {},
   "outputs": [],
   "source": [
    "xtrain, xtest, ytrain, ytest = train_test_split(transformed, y, test_size = 0.2)"
   ]
  },
  {
   "cell_type": "markdown",
   "metadata": {},
   "source": [
    "### Régression logistique"
   ]
  },
  {
   "cell_type": "code",
   "execution_count": 19,
   "metadata": {},
   "outputs": [
    {
     "data": {
      "text/plain": [
       "0.3745054170657107"
      ]
     },
     "execution_count": 19,
     "metadata": {},
     "output_type": "execute_result"
    }
   ],
   "source": [
    "logreg_model = LogisticRegression(solver = 'lbfgs', max_iter = 1000)\n",
    "logreg_model.fit(xtrain, ytrain)\n",
    "\n",
    "p1 = logreg_model.predict_proba(xtest)[:,1]\n",
    "gini_normalized(ytest, p1)"
   ]
  },
  {
   "cell_type": "code",
   "execution_count": 20,
   "metadata": {
    "scrolled": true
   },
   "outputs": [
    {
     "data": {
      "text/plain": [
       "array([0, 1, 0, ..., 0, 0, 1], dtype=int64)"
      ]
     },
     "execution_count": 20,
     "metadata": {},
     "output_type": "execute_result"
    }
   ],
   "source": [
    "ytest"
   ]
  },
  {
   "cell_type": "markdown",
   "metadata": {},
   "source": [
    "### XGBoost"
   ]
  },
  {
   "cell_type": "code",
   "execution_count": 21,
   "metadata": {},
   "outputs": [
    {
     "data": {
      "text/plain": [
       "0.42366235765217675"
      ]
     },
     "execution_count": 21,
     "metadata": {},
     "output_type": "execute_result"
    }
   ],
   "source": [
    "from xgboost import XGBClassifier\n",
    "\n",
    "xgb_model = XGBClassifier()\n",
    "xgb_model.fit(xtrain, ytrain)\n",
    "\n",
    "p1 = xgb_model.predict_proba(xtest)[:,1]\n",
    "gini_normalized(ytest, p1)"
   ]
  },
  {
   "cell_type": "markdown",
   "metadata": {},
   "source": [
    "Peut on améliorer cela par validation croisée ?"
   ]
  },
  {
   "cell_type": "code",
   "execution_count": 22,
   "metadata": {},
   "outputs": [
    {
     "data": {
      "text/plain": [
       "0.4239431787625061"
      ]
     },
     "execution_count": 22,
     "metadata": {},
     "output_type": "execute_result"
    }
   ],
   "source": [
    "search = GridSearchCV(XGBClassifier(), n_jobs = 4, cv = 5, return_train_score = False, param_grid = dict(\n",
    "    max_depth = [3, 5, 7],\n",
    "    learning_rate = [0.01, 0.05, 0.1],\n",
    "))\n",
    "search.fit(xtrain, ytrain)\n",
    "p1 = search.best_estimator_.predict_proba(xtest)[:,1]\n",
    "gini_normalized(ytest, p1)"
   ]
  },
  {
   "cell_type": "code",
   "execution_count": 23,
   "metadata": {},
   "outputs": [
    {
     "data": {
      "text/html": [
       "<div>\n",
       "<style scoped>\n",
       "    .dataframe tbody tr th:only-of-type {\n",
       "        vertical-align: middle;\n",
       "    }\n",
       "\n",
       "    .dataframe tbody tr th {\n",
       "        vertical-align: top;\n",
       "    }\n",
       "\n",
       "    .dataframe thead th {\n",
       "        text-align: right;\n",
       "    }\n",
       "</style>\n",
       "<table border=\"1\" class=\"dataframe\">\n",
       "  <thead>\n",
       "    <tr style=\"text-align: right;\">\n",
       "      <th></th>\n",
       "      <th>mean_fit_time</th>\n",
       "      <th>std_fit_time</th>\n",
       "      <th>mean_score_time</th>\n",
       "      <th>std_score_time</th>\n",
       "      <th>param_learning_rate</th>\n",
       "      <th>param_max_depth</th>\n",
       "      <th>params</th>\n",
       "      <th>split0_test_score</th>\n",
       "      <th>split1_test_score</th>\n",
       "      <th>split2_test_score</th>\n",
       "      <th>split3_test_score</th>\n",
       "      <th>split4_test_score</th>\n",
       "      <th>mean_test_score</th>\n",
       "      <th>std_test_score</th>\n",
       "      <th>rank_test_score</th>\n",
       "    </tr>\n",
       "  </thead>\n",
       "  <tbody>\n",
       "    <tr>\n",
       "      <th>0</th>\n",
       "      <td>2.374052</td>\n",
       "      <td>0.034575</td>\n",
       "      <td>0.013365</td>\n",
       "      <td>0.002326</td>\n",
       "      <td>0.01</td>\n",
       "      <td>3</td>\n",
       "      <td>{'learning_rate': 0.01, 'max_depth': 3}</td>\n",
       "      <td>0.788027</td>\n",
       "      <td>0.778253</td>\n",
       "      <td>0.792914</td>\n",
       "      <td>0.782529</td>\n",
       "      <td>0.781651</td>\n",
       "      <td>0.784676</td>\n",
       "      <td>0.005179</td>\n",
       "      <td>6</td>\n",
       "    </tr>\n",
       "    <tr>\n",
       "      <th>1</th>\n",
       "      <td>3.378766</td>\n",
       "      <td>0.064752</td>\n",
       "      <td>0.022939</td>\n",
       "      <td>0.009009</td>\n",
       "      <td>0.01</td>\n",
       "      <td>5</td>\n",
       "      <td>{'learning_rate': 0.01, 'max_depth': 5}</td>\n",
       "      <td>0.784973</td>\n",
       "      <td>0.777642</td>\n",
       "      <td>0.794136</td>\n",
       "      <td>0.786805</td>\n",
       "      <td>0.793884</td>\n",
       "      <td>0.787486</td>\n",
       "      <td>0.006145</td>\n",
       "      <td>4</td>\n",
       "    </tr>\n",
       "    <tr>\n",
       "      <th>2</th>\n",
       "      <td>4.973105</td>\n",
       "      <td>0.134218</td>\n",
       "      <td>0.033909</td>\n",
       "      <td>0.009206</td>\n",
       "      <td>0.01</td>\n",
       "      <td>7</td>\n",
       "      <td>{'learning_rate': 0.01, 'max_depth': 7}</td>\n",
       "      <td>0.780696</td>\n",
       "      <td>0.775199</td>\n",
       "      <td>0.793525</td>\n",
       "      <td>0.785583</td>\n",
       "      <td>0.784709</td>\n",
       "      <td>0.783942</td>\n",
       "      <td>0.006036</td>\n",
       "      <td>8</td>\n",
       "    </tr>\n",
       "    <tr>\n",
       "      <th>3</th>\n",
       "      <td>2.444265</td>\n",
       "      <td>0.117161</td>\n",
       "      <td>0.016755</td>\n",
       "      <td>0.006162</td>\n",
       "      <td>0.05</td>\n",
       "      <td>3</td>\n",
       "      <td>{'learning_rate': 0.05, 'max_depth': 3}</td>\n",
       "      <td>0.787416</td>\n",
       "      <td>0.782529</td>\n",
       "      <td>0.794136</td>\n",
       "      <td>0.786805</td>\n",
       "      <td>0.792049</td>\n",
       "      <td>0.788586</td>\n",
       "      <td>0.004099</td>\n",
       "      <td>3</td>\n",
       "    </tr>\n",
       "    <tr>\n",
       "      <th>4</th>\n",
       "      <td>3.374178</td>\n",
       "      <td>0.049544</td>\n",
       "      <td>0.030120</td>\n",
       "      <td>0.005998</td>\n",
       "      <td>0.05</td>\n",
       "      <td>5</td>\n",
       "      <td>{'learning_rate': 0.05, 'max_depth': 5}</td>\n",
       "      <td>0.786194</td>\n",
       "      <td>0.778864</td>\n",
       "      <td>0.794136</td>\n",
       "      <td>0.789859</td>\n",
       "      <td>0.796330</td>\n",
       "      <td>0.789075</td>\n",
       "      <td>0.006187</td>\n",
       "      <td>1</td>\n",
       "    </tr>\n",
       "    <tr>\n",
       "      <th>5</th>\n",
       "      <td>4.433346</td>\n",
       "      <td>0.041609</td>\n",
       "      <td>0.034308</td>\n",
       "      <td>0.001620</td>\n",
       "      <td>0.05</td>\n",
       "      <td>7</td>\n",
       "      <td>{'learning_rate': 0.05, 'max_depth': 7}</td>\n",
       "      <td>0.780086</td>\n",
       "      <td>0.778864</td>\n",
       "      <td>0.787416</td>\n",
       "      <td>0.787416</td>\n",
       "      <td>0.789602</td>\n",
       "      <td>0.784676</td>\n",
       "      <td>0.004339</td>\n",
       "      <td>6</td>\n",
       "    </tr>\n",
       "    <tr>\n",
       "      <th>6</th>\n",
       "      <td>2.371641</td>\n",
       "      <td>0.050073</td>\n",
       "      <td>0.013908</td>\n",
       "      <td>0.001047</td>\n",
       "      <td>0.1</td>\n",
       "      <td>3</td>\n",
       "      <td>{'learning_rate': 0.1, 'max_depth': 3}</td>\n",
       "      <td>0.786805</td>\n",
       "      <td>0.781918</td>\n",
       "      <td>0.794136</td>\n",
       "      <td>0.786805</td>\n",
       "      <td>0.795107</td>\n",
       "      <td>0.788953</td>\n",
       "      <td>0.004969</td>\n",
       "      <td>2</td>\n",
       "    </tr>\n",
       "    <tr>\n",
       "      <th>7</th>\n",
       "      <td>3.280229</td>\n",
       "      <td>0.030356</td>\n",
       "      <td>0.023155</td>\n",
       "      <td>0.002377</td>\n",
       "      <td>0.1</td>\n",
       "      <td>5</td>\n",
       "      <td>{'learning_rate': 0.1, 'max_depth': 5}</td>\n",
       "      <td>0.782529</td>\n",
       "      <td>0.777031</td>\n",
       "      <td>0.792303</td>\n",
       "      <td>0.790470</td>\n",
       "      <td>0.791437</td>\n",
       "      <td>0.786753</td>\n",
       "      <td>0.005982</td>\n",
       "      <td>5</td>\n",
       "    </tr>\n",
       "    <tr>\n",
       "      <th>8</th>\n",
       "      <td>3.843723</td>\n",
       "      <td>0.580263</td>\n",
       "      <td>0.026728</td>\n",
       "      <td>0.007148</td>\n",
       "      <td>0.1</td>\n",
       "      <td>7</td>\n",
       "      <td>{'learning_rate': 0.1, 'max_depth': 7}</td>\n",
       "      <td>0.778864</td>\n",
       "      <td>0.775809</td>\n",
       "      <td>0.783140</td>\n",
       "      <td>0.785583</td>\n",
       "      <td>0.790214</td>\n",
       "      <td>0.782720</td>\n",
       "      <td>0.005042</td>\n",
       "      <td>9</td>\n",
       "    </tr>\n",
       "  </tbody>\n",
       "</table>\n",
       "</div>"
      ],
      "text/plain": [
       "   mean_fit_time  std_fit_time  mean_score_time  std_score_time  \\\n",
       "0       2.374052      0.034575         0.013365        0.002326   \n",
       "1       3.378766      0.064752         0.022939        0.009009   \n",
       "2       4.973105      0.134218         0.033909        0.009206   \n",
       "3       2.444265      0.117161         0.016755        0.006162   \n",
       "4       3.374178      0.049544         0.030120        0.005998   \n",
       "5       4.433346      0.041609         0.034308        0.001620   \n",
       "6       2.371641      0.050073         0.013908        0.001047   \n",
       "7       3.280229      0.030356         0.023155        0.002377   \n",
       "8       3.843723      0.580263         0.026728        0.007148   \n",
       "\n",
       "  param_learning_rate param_max_depth  \\\n",
       "0                0.01               3   \n",
       "1                0.01               5   \n",
       "2                0.01               7   \n",
       "3                0.05               3   \n",
       "4                0.05               5   \n",
       "5                0.05               7   \n",
       "6                 0.1               3   \n",
       "7                 0.1               5   \n",
       "8                 0.1               7   \n",
       "\n",
       "                                    params  split0_test_score  \\\n",
       "0  {'learning_rate': 0.01, 'max_depth': 3}           0.788027   \n",
       "1  {'learning_rate': 0.01, 'max_depth': 5}           0.784973   \n",
       "2  {'learning_rate': 0.01, 'max_depth': 7}           0.780696   \n",
       "3  {'learning_rate': 0.05, 'max_depth': 3}           0.787416   \n",
       "4  {'learning_rate': 0.05, 'max_depth': 5}           0.786194   \n",
       "5  {'learning_rate': 0.05, 'max_depth': 7}           0.780086   \n",
       "6   {'learning_rate': 0.1, 'max_depth': 3}           0.786805   \n",
       "7   {'learning_rate': 0.1, 'max_depth': 5}           0.782529   \n",
       "8   {'learning_rate': 0.1, 'max_depth': 7}           0.778864   \n",
       "\n",
       "   split1_test_score  split2_test_score  split3_test_score  split4_test_score  \\\n",
       "0           0.778253           0.792914           0.782529           0.781651   \n",
       "1           0.777642           0.794136           0.786805           0.793884   \n",
       "2           0.775199           0.793525           0.785583           0.784709   \n",
       "3           0.782529           0.794136           0.786805           0.792049   \n",
       "4           0.778864           0.794136           0.789859           0.796330   \n",
       "5           0.778864           0.787416           0.787416           0.789602   \n",
       "6           0.781918           0.794136           0.786805           0.795107   \n",
       "7           0.777031           0.792303           0.790470           0.791437   \n",
       "8           0.775809           0.783140           0.785583           0.790214   \n",
       "\n",
       "   mean_test_score  std_test_score  rank_test_score  \n",
       "0         0.784676        0.005179                6  \n",
       "1         0.787486        0.006145                4  \n",
       "2         0.783942        0.006036                8  \n",
       "3         0.788586        0.004099                3  \n",
       "4         0.789075        0.006187                1  \n",
       "5         0.784676        0.004339                6  \n",
       "6         0.788953        0.004969                2  \n",
       "7         0.786753        0.005982                5  \n",
       "8         0.782720        0.005042                9  "
      ]
     },
     "execution_count": 23,
     "metadata": {},
     "output_type": "execute_result"
    }
   ],
   "source": [
    "pd.DataFrame(search.cv_results_)"
   ]
  },
  {
   "cell_type": "markdown",
   "metadata": {},
   "source": [
    "Même chose sur les données de test, pour soumission."
   ]
  },
  {
   "cell_type": "code",
   "execution_count": 24,
   "metadata": {},
   "outputs": [
    {
     "data": {
      "text/plain": [
       "XGBClassifier(base_score=0.5, booster='gbtree', colsample_bylevel=1,\n",
       "       colsample_bynode=1, colsample_bytree=1, gamma=0, learning_rate=0.05,\n",
       "       max_delta_step=0, max_depth=5, min_child_weight=1, missing=None,\n",
       "       n_estimators=100, n_jobs=1, nthread=None,\n",
       "       objective='binary:logistic', random_state=0, reg_alpha=0,\n",
       "       reg_lambda=1, scale_pos_weight=1, seed=None, silent=None,\n",
       "       subsample=1, verbosity=1)"
      ]
     },
     "execution_count": 24,
     "metadata": {},
     "output_type": "execute_result"
    }
   ],
   "source": [
    "test_f = test.drop(columns = ['Insee', 'Identifiant']).drop(columns = dropped)\n",
    "test_f.head()\n",
    "transformed = ohe_df(test_f)[\"result\"]\n",
    "\n",
    "xgt = XGBClassifier(**search.best_params_)\n",
    "xgt.fit(xtrain, ytrain)"
   ]
  },
  {
   "cell_type": "markdown",
   "metadata": {},
   "source": [
    "## ACP pour sélection de variables"
   ]
  },
  {
   "cell_type": "code",
   "execution_count": 25,
   "metadata": {},
   "outputs": [
    {
     "data": {
      "text/plain": [
       "<BarContainer object of 20 artists>"
      ]
     },
     "execution_count": 25,
     "metadata": {},
     "output_type": "execute_result"
    },
    {
     "data": {
      "image/png": "[encoded data removed]",
      "text/plain": [
       "<Figure size 432x288 with 1 Axes>"
      ]
     },
     "metadata": {
      "needs_background": "light"
     },
     "output_type": "display_data"
    }
   ],
   "source": [
    "k = 20\n",
    "xpca = ohe_df(filtered)[\"result\"]\n",
    "pca = PCA(n_components = k)\n",
    "pca.fit(xpca, y)\n",
    "plt.bar(np.arange(k), pca.explained_variance_ratio_)"
   ]
  },
  {
   "cell_type": "code",
   "execution_count": 26,
   "metadata": {},
   "outputs": [
    {
     "data": {
      "text/plain": [
       "(array([66, 68]), array([0.9999967 , 0.00256434]))"
      ]
     },
     "execution_count": 26,
     "metadata": {},
     "output_type": "execute_result"
    }
   ],
   "source": [
    "np.arange(xpca.shape[1])[pca.components_[0,:] > 0.001], pca.components_[0,pca.components_[0,:] > 0.001]"
   ]
  },
  {
   "cell_type": "code",
   "execution_count": 27,
   "metadata": {},
   "outputs": [
    {
     "data": {
      "text/plain": [
       "<BarContainer object of 69 artists>"
      ]
     },
     "execution_count": 27,
     "metadata": {},
     "output_type": "execute_result"
    },
    {
     "data": {
      "image/png": "[encoded data removed]",
      "text/plain": [
       "<Figure size 432x288 with 1 Axes>"
      ]
     },
     "metadata": {
      "needs_background": "light"
     },
     "output_type": "display_data"
    }
   ],
   "source": [
    "plt.bar(np.arange(xpca.shape[1]), (pca.components_[0,:]))"
   ]
  },
  {
   "cell_type": "markdown",
   "metadata": {},
   "source": [
    "# Données externes\n",
    "## Traitement"
   ]
  },
  {
   "cell_type": "markdown",
   "metadata": {},
   "source": [
    "Lecture du jeu de données (4 Go)."
   ]
  },
  {
   "cell_type": "code",
   "execution_count": 28,
   "metadata": {},
   "outputs": [],
   "source": [
    "import csv\n",
    "\n",
    "def splitted_lines(reader):\n",
    "    # on garde colonne 0 et de 15 à 23\n",
    "    yield from map(lambda n: [n[0]] + n[15:23], reader)\n",
    "\n",
    "def line_parser(reader):\n",
    "    header = next(reader)\n",
    "    yield header\n",
    "    real_len = len(header)\n",
    "    yield from filter(lambda line: real_len == len(line), reader)\n",
    "\n",
    "def read_full():\n",
    "    with open(\"meteo_full.csv\") as meteo_full:\n",
    "        # csv reader va permettre de charger une ligne à la fois en mémoire\n",
    "        # on ne garde ensuite que les colonnes qui nous intéressent\n",
    "        reader = splitted_lines(csv.reader(meteo_full, quoting = csv.QUOTE_ALL, delimiter = ';'))\n",
    "        yield from line_parser(reader)\n",
    "\n",
    "# ne pas lancer a chaque fois !\n",
    "if False:\n",
    "    meteo_full = read_full()\n",
    "    header = next(meteo_full)\n",
    "    meteo_full = pd.DataFrame([line for line in meteo_full], columns = header)\n",
    "    meteo_full.to_csv(\"meteo_full_nogeo.csv\")"
   ]
  },
  {
   "cell_type": "markdown",
   "metadata": {},
   "source": [
    "Jeu allégé :"
   ]
  },
  {
   "cell_type": "code",
   "execution_count": 29,
   "metadata": {},
   "outputs": [],
   "source": [
    "meteo_full = pd.read_csv(\"meteo_full_nogeo.csv\")"
   ]
  },
  {
   "cell_type": "markdown",
   "metadata": {},
   "source": [
    "## Construction d'une variable"
   ]
  },
  {
   "cell_type": "code",
   "execution_count": 30,
   "metadata": {},
   "outputs": [
    {
     "data": {
      "text/html": [
       "<div>\n",
       "<style scoped>\n",
       "    .dataframe tbody tr th:only-of-type {\n",
       "        vertical-align: middle;\n",
       "    }\n",
       "\n",
       "    .dataframe tbody tr th {\n",
       "        vertical-align: top;\n",
       "    }\n",
       "\n",
       "    .dataframe thead th {\n",
       "        text-align: right;\n",
       "    }\n",
       "</style>\n",
       "<table border=\"1\" class=\"dataframe\">\n",
       "  <thead>\n",
       "    <tr style=\"text-align: right;\">\n",
       "      <th></th>\n",
       "      <th>dep</th>\n",
       "      <th>meteo</th>\n",
       "    </tr>\n",
       "  </thead>\n",
       "  <tbody>\n",
       "    <tr>\n",
       "      <th>0</th>\n",
       "      <td>01</td>\n",
       "      <td>5.75</td>\n",
       "    </tr>\n",
       "    <tr>\n",
       "      <th>1</th>\n",
       "      <td>02</td>\n",
       "      <td>20.00</td>\n",
       "    </tr>\n",
       "    <tr>\n",
       "      <th>2</th>\n",
       "      <td>03</td>\n",
       "      <td>3.70</td>\n",
       "    </tr>\n",
       "    <tr>\n",
       "      <th>3</th>\n",
       "      <td>04</td>\n",
       "      <td>9.95</td>\n",
       "    </tr>\n",
       "    <tr>\n",
       "      <th>4</th>\n",
       "      <td>05</td>\n",
       "      <td>12.35</td>\n",
       "    </tr>\n",
       "  </tbody>\n",
       "</table>\n",
       "</div>"
      ],
      "text/plain": [
       "  dep  meteo\n",
       "0  01   5.75\n",
       "1  02  20.00\n",
       "2  03   3.70\n",
       "3  04   9.95\n",
       "4  05  12.35"
      ]
     },
     "execution_count": 30,
     "metadata": {},
     "output_type": "execute_result"
    }
   ],
   "source": [
    "# calcul d'un coeff météorologique pour un tableau issu d'un groupement\n",
    "def coeff_meteo_event(df, weights):\n",
    "    a, b = weights\n",
    "    jaune = np.sum(df.values[:, 1:] == \"Jaune\")\n",
    "    orange = np.sum(df.values[:, 1:] == \"Orange\")\n",
    "    return (a * jaune + b * orange)/df.shape[1] \n",
    "\n",
    "# récupère un dataframe avec deux colonnes à partir du jeu de données et de poids à attribuer aux événements jaune et orange\n",
    "def get_meteo(weights = [0.5, 1]):\n",
    "    coeffs = []\n",
    "    grouped = meteo_full.groupby(\"Code département\")\n",
    "    for key, val in grouped.groups.items():\n",
    "        if key == '': continue\n",
    "        df = meteo_full.iloc[val]\n",
    "        coeffs.append((key, coeff_meteo_event(df, weights)))\n",
    "    return pd.DataFrame(coeffs, columns = [\"dep\", \"meteo\"])\n",
    "\n",
    "meteo = get_meteo()\n",
    "meteo.head()"
   ]
  },
  {
   "cell_type": "code",
   "execution_count": 31,
   "metadata": {},
   "outputs": [],
   "source": [
    "# jointure d'un jeu de données sur colonne département (calculée à partir de l'INSEE, cf début)\n",
    "def merge_meteo(df, weights = [0.5, 1]):\n",
    "    merged = df.merge(get_meteo(weights), on = 'dep', how = 'left')\n",
    "    # on complète avec la valeur médiane si pas de code INSEE\n",
    "    imp = SimpleImputer(missing_values = np.nan, strategy = 'median')\n",
    "    merged['meteo'] = imp.fit_transform(merged[['meteo']])\n",
    "    merged = merged.drop(columns = ['Insee', 'dep', 'Identifiant', 'target'], errors = 'ignore')\n",
    "    return merged\n",
    "\n",
    "train_meteo = merge_meteo(train)"
   ]
  },
  {
   "cell_type": "code",
   "execution_count": 32,
   "metadata": {
    "scrolled": false
   },
   "outputs": [
    {
     "data": {
      "text/plain": [
       "ft_2_categ       int64\n",
       "EXPO           float64\n",
       "ft_4_categ       int64\n",
       "ft_5_categ      object\n",
       "ft_6_categ      object\n",
       "ft_7_categ      object\n",
       "ft_8_categ      object\n",
       "ft_9_categ      object\n",
       "ft_10_categ     object\n",
       "ft_11_categ     object\n",
       "ft_12_categ     object\n",
       "ft_13_categ     object\n",
       "ft_14_categ     object\n",
       "ft_15_categ     object\n",
       "ft_16_categ     object\n",
       "ft_17_categ     object\n",
       "ft_18_categ     object\n",
       "ft_19_categ      int64\n",
       "superficief      int64\n",
       "ft_21_categ      int64\n",
       "ft_22_categ      int64\n",
       "ft_23_categ     object\n",
       "ft_24_categ     object\n",
       "meteo          float64\n",
       "dtype: object"
      ]
     },
     "execution_count": 32,
     "metadata": {},
     "output_type": "execute_result"
    }
   ],
   "source": [
    "train_meteo.dtypes"
   ]
  },
  {
   "cell_type": "code",
   "execution_count": 33,
   "metadata": {},
   "outputs": [
    {
     "data": {
      "text/html": [
       "<div>\n",
       "<style scoped>\n",
       "    .dataframe tbody tr th:only-of-type {\n",
       "        vertical-align: middle;\n",
       "    }\n",
       "\n",
       "    .dataframe tbody tr th {\n",
       "        vertical-align: top;\n",
       "    }\n",
       "\n",
       "    .dataframe thead th {\n",
       "        text-align: right;\n",
       "    }\n",
       "</style>\n",
       "<table border=\"1\" class=\"dataframe\">\n",
       "  <thead>\n",
       "    <tr style=\"text-align: right;\">\n",
       "      <th></th>\n",
       "      <th>ft_2_categ</th>\n",
       "      <th>EXPO</th>\n",
       "      <th>ft_4_categ</th>\n",
       "      <th>ft_5_categ</th>\n",
       "      <th>ft_6_categ</th>\n",
       "      <th>ft_7_categ</th>\n",
       "      <th>ft_8_categ</th>\n",
       "      <th>ft_9_categ</th>\n",
       "      <th>ft_10_categ</th>\n",
       "      <th>ft_11_categ</th>\n",
       "      <th>...</th>\n",
       "      <th>ft_16_categ</th>\n",
       "      <th>ft_17_categ</th>\n",
       "      <th>ft_18_categ</th>\n",
       "      <th>ft_19_categ</th>\n",
       "      <th>superficief</th>\n",
       "      <th>ft_21_categ</th>\n",
       "      <th>ft_22_categ</th>\n",
       "      <th>ft_23_categ</th>\n",
       "      <th>ft_24_categ</th>\n",
       "      <th>meteo</th>\n",
       "    </tr>\n",
       "  </thead>\n",
       "  <tbody>\n",
       "    <tr>\n",
       "      <th>0</th>\n",
       "      <td>2014</td>\n",
       "      <td>1.000000</td>\n",
       "      <td>0</td>\n",
       "      <td>V</td>\n",
       "      <td>N</td>\n",
       "      <td>1</td>\n",
       "      <td>O</td>\n",
       "      <td>1</td>\n",
       "      <td>O</td>\n",
       "      <td>N</td>\n",
       "      <td>...</td>\n",
       "      <td>IDENTIQUE</td>\n",
       "      <td>V</td>\n",
       "      <td>base</td>\n",
       "      <td>2</td>\n",
       "      <td>1351</td>\n",
       "      <td>4</td>\n",
       "      <td>2012</td>\n",
       "      <td>0.0</td>\n",
       "      <td>2</td>\n",
       "      <td>7.00</td>\n",
       "    </tr>\n",
       "    <tr>\n",
       "      <th>1</th>\n",
       "      <td>2014</td>\n",
       "      <td>1.000000</td>\n",
       "      <td>0</td>\n",
       "      <td>V</td>\n",
       "      <td>V</td>\n",
       "      <td>V</td>\n",
       "      <td>V</td>\n",
       "      <td>V</td>\n",
       "      <td>V</td>\n",
       "      <td>V</td>\n",
       "      <td>...</td>\n",
       "      <td>V</td>\n",
       "      <td>N</td>\n",
       "      <td>base</td>\n",
       "      <td>2</td>\n",
       "      <td>1972</td>\n",
       "      <td>2</td>\n",
       "      <td>1980</td>\n",
       "      <td>0.0</td>\n",
       "      <td>.</td>\n",
       "      <td>7.90</td>\n",
       "    </tr>\n",
       "    <tr>\n",
       "      <th>2</th>\n",
       "      <td>2013</td>\n",
       "      <td>1.000000</td>\n",
       "      <td>1</td>\n",
       "      <td>V</td>\n",
       "      <td>V</td>\n",
       "      <td>V</td>\n",
       "      <td>V</td>\n",
       "      <td>V</td>\n",
       "      <td>V</td>\n",
       "      <td>V</td>\n",
       "      <td>...</td>\n",
       "      <td>V</td>\n",
       "      <td>N</td>\n",
       "      <td>base</td>\n",
       "      <td>2</td>\n",
       "      <td>1630</td>\n",
       "      <td>4</td>\n",
       "      <td>1970</td>\n",
       "      <td>0.0</td>\n",
       "      <td>.</td>\n",
       "      <td>5.80</td>\n",
       "    </tr>\n",
       "    <tr>\n",
       "      <th>3</th>\n",
       "      <td>2013</td>\n",
       "      <td>0.246575</td>\n",
       "      <td>0</td>\n",
       "      <td>N</td>\n",
       "      <td>V</td>\n",
       "      <td>V</td>\n",
       "      <td>V</td>\n",
       "      <td>V</td>\n",
       "      <td>V</td>\n",
       "      <td>V</td>\n",
       "      <td>...</td>\n",
       "      <td>V</td>\n",
       "      <td>N</td>\n",
       "      <td>base</td>\n",
       "      <td>2</td>\n",
       "      <td>532</td>\n",
       "      <td>3</td>\n",
       "      <td>1970</td>\n",
       "      <td>0.0</td>\n",
       "      <td>.</td>\n",
       "      <td>2.05</td>\n",
       "    </tr>\n",
       "    <tr>\n",
       "      <th>4</th>\n",
       "      <td>2015</td>\n",
       "      <td>1.000000</td>\n",
       "      <td>0</td>\n",
       "      <td>V</td>\n",
       "      <td>N</td>\n",
       "      <td>2</td>\n",
       "      <td>O</td>\n",
       "      <td>1</td>\n",
       "      <td>O</td>\n",
       "      <td>N</td>\n",
       "      <td>...</td>\n",
       "      <td>IDENTIQUE</td>\n",
       "      <td>V</td>\n",
       "      <td>base</td>\n",
       "      <td>2</td>\n",
       "      <td>1050</td>\n",
       "      <td>2</td>\n",
       "      <td>1972</td>\n",
       "      <td>0.0</td>\n",
       "      <td>4</td>\n",
       "      <td>15.20</td>\n",
       "    </tr>\n",
       "  </tbody>\n",
       "</table>\n",
       "<p>5 rows × 24 columns</p>\n",
       "</div>"
      ],
      "text/plain": [
       "   ft_2_categ      EXPO  ft_4_categ ft_5_categ ft_6_categ ft_7_categ  \\\n",
       "0        2014  1.000000           0          V          N          1   \n",
       "1        2014  1.000000           0          V          V          V   \n",
       "2        2013  1.000000           1          V          V          V   \n",
       "3        2013  0.246575           0          N          V          V   \n",
       "4        2015  1.000000           0          V          N          2   \n",
       "\n",
       "  ft_8_categ ft_9_categ ft_10_categ ft_11_categ  ... ft_16_categ ft_17_categ  \\\n",
       "0          O          1           O           N  ...   IDENTIQUE           V   \n",
       "1          V          V           V           V  ...           V           N   \n",
       "2          V          V           V           V  ...           V           N   \n",
       "3          V          V           V           V  ...           V           N   \n",
       "4          O          1           O           N  ...   IDENTIQUE           V   \n",
       "\n",
       "  ft_18_categ ft_19_categ superficief ft_21_categ ft_22_categ  ft_23_categ  \\\n",
       "0        base           2        1351           4        2012          0.0   \n",
       "1        base           2        1972           2        1980          0.0   \n",
       "2        base           2        1630           4        1970          0.0   \n",
       "3        base           2         532           3        1970          0.0   \n",
       "4        base           2        1050           2        1972          0.0   \n",
       "\n",
       "   ft_24_categ  meteo  \n",
       "0            2   7.00  \n",
       "1            .   7.90  \n",
       "2            .   5.80  \n",
       "3            .   2.05  \n",
       "4            4  15.20  \n",
       "\n",
       "[5 rows x 24 columns]"
      ]
     },
     "execution_count": 33,
     "metadata": {},
     "output_type": "execute_result"
    }
   ],
   "source": [
    "train_meteo.head()"
   ]
  },
  {
   "cell_type": "code",
   "execution_count": 34,
   "metadata": {
    "scrolled": false
   },
   "outputs": [
    {
     "data": {
      "text/html": [
       "<div>\n",
       "<style scoped>\n",
       "    .dataframe tbody tr th:only-of-type {\n",
       "        vertical-align: middle;\n",
       "    }\n",
       "\n",
       "    .dataframe tbody tr th {\n",
       "        vertical-align: top;\n",
       "    }\n",
       "\n",
       "    .dataframe thead th {\n",
       "        text-align: right;\n",
       "    }\n",
       "</style>\n",
       "<table border=\"1\" class=\"dataframe\">\n",
       "  <thead>\n",
       "    <tr style=\"text-align: right;\">\n",
       "      <th></th>\n",
       "      <th>0</th>\n",
       "      <th>1</th>\n",
       "    </tr>\n",
       "  </thead>\n",
       "  <tbody>\n",
       "    <tr>\n",
       "      <th>0</th>\n",
       "      <td>slice(0, 3, None)</td>\n",
       "      <td>ft_5_categ</td>\n",
       "    </tr>\n",
       "    <tr>\n",
       "      <th>1</th>\n",
       "      <td>slice(3, 6, None)</td>\n",
       "      <td>ft_6_categ</td>\n",
       "    </tr>\n",
       "    <tr>\n",
       "      <th>2</th>\n",
       "      <td>slice(6, 10, None)</td>\n",
       "      <td>ft_7_categ</td>\n",
       "    </tr>\n",
       "    <tr>\n",
       "      <th>3</th>\n",
       "      <td>slice(10, 13, None)</td>\n",
       "      <td>ft_8_categ</td>\n",
       "    </tr>\n",
       "    <tr>\n",
       "      <th>4</th>\n",
       "      <td>slice(13, 17, None)</td>\n",
       "      <td>ft_9_categ</td>\n",
       "    </tr>\n",
       "    <tr>\n",
       "      <th>5</th>\n",
       "      <td>slice(17, 20, None)</td>\n",
       "      <td>ft_10_categ</td>\n",
       "    </tr>\n",
       "    <tr>\n",
       "      <th>6</th>\n",
       "      <td>slice(20, 23, None)</td>\n",
       "      <td>ft_11_categ</td>\n",
       "    </tr>\n",
       "    <tr>\n",
       "      <th>7</th>\n",
       "      <td>slice(23, 26, None)</td>\n",
       "      <td>ft_12_categ</td>\n",
       "    </tr>\n",
       "    <tr>\n",
       "      <th>8</th>\n",
       "      <td>slice(26, 29, None)</td>\n",
       "      <td>ft_13_categ</td>\n",
       "    </tr>\n",
       "    <tr>\n",
       "      <th>9</th>\n",
       "      <td>slice(29, 32, None)</td>\n",
       "      <td>ft_14_categ</td>\n",
       "    </tr>\n",
       "    <tr>\n",
       "      <th>10</th>\n",
       "      <td>slice(32, 34, None)</td>\n",
       "      <td>ft_15_categ</td>\n",
       "    </tr>\n",
       "    <tr>\n",
       "      <th>11</th>\n",
       "      <td>slice(34, 36, None)</td>\n",
       "      <td>ft_16_categ</td>\n",
       "    </tr>\n",
       "    <tr>\n",
       "      <th>12</th>\n",
       "      <td>slice(36, 39, None)</td>\n",
       "      <td>ft_17_categ</td>\n",
       "    </tr>\n",
       "    <tr>\n",
       "      <th>13</th>\n",
       "      <td>slice(39, 44, None)</td>\n",
       "      <td>ft_18_categ</td>\n",
       "    </tr>\n",
       "    <tr>\n",
       "      <th>14</th>\n",
       "      <td>slice(44, 51, None)</td>\n",
       "      <td>ft_23_categ</td>\n",
       "    </tr>\n",
       "    <tr>\n",
       "      <th>15</th>\n",
       "      <td>slice(51, 62, None)</td>\n",
       "      <td>ft_24_categ</td>\n",
       "    </tr>\n",
       "  </tbody>\n",
       "</table>\n",
       "</div>"
      ],
      "text/plain": [
       "                      0            1\n",
       "0     slice(0, 3, None)   ft_5_categ\n",
       "1     slice(3, 6, None)   ft_6_categ\n",
       "2    slice(6, 10, None)   ft_7_categ\n",
       "3   slice(10, 13, None)   ft_8_categ\n",
       "4   slice(13, 17, None)   ft_9_categ\n",
       "5   slice(17, 20, None)  ft_10_categ\n",
       "6   slice(20, 23, None)  ft_11_categ\n",
       "7   slice(23, 26, None)  ft_12_categ\n",
       "8   slice(26, 29, None)  ft_13_categ\n",
       "9   slice(29, 32, None)  ft_14_categ\n",
       "10  slice(32, 34, None)  ft_15_categ\n",
       "11  slice(34, 36, None)  ft_16_categ\n",
       "12  slice(36, 39, None)  ft_17_categ\n",
       "13  slice(39, 44, None)  ft_18_categ\n",
       "14  slice(44, 51, None)  ft_23_categ\n",
       "15  slice(51, 62, None)  ft_24_categ"
      ]
     },
     "execution_count": 34,
     "metadata": {},
     "output_type": "execute_result"
    }
   ],
   "source": [
    "res = ohe_df(train_meteo)\n",
    "transformed = res[\"result\"]\n",
    "y = train[\"target\"].values\n",
    "pd.DataFrame(np.transpose([get_slices(res)[0], res[\"names\"]]))"
   ]
  },
  {
   "cell_type": "code",
   "execution_count": 35,
   "metadata": {},
   "outputs": [
    {
     "data": {
      "text/plain": [
       "array([8.9 , 5.8 , 3.7 , ..., 4.8 , 9.2 , 1.75])"
      ]
     },
     "execution_count": 35,
     "metadata": {},
     "output_type": "execute_result"
    }
   ],
   "source": [
    "xtrain, xtest, ytrain, ytest = train_test_split(transformed, y, test_size = 0.2)\n",
    "xtrain[:, -1]"
   ]
  },
  {
   "cell_type": "markdown",
   "metadata": {},
   "source": [
    "## Analyse via PCA\n",
    "\n",
    "La variable ainsi construite est-elle utile ?"
   ]
  },
  {
   "cell_type": "code",
   "execution_count": 36,
   "metadata": {
    "scrolled": false
   },
   "outputs": [
    {
     "data": {
      "image/png": "[encoded data removed]",
      "text/plain": [
       "<Figure size 432x288 with 1 Axes>"
      ]
     },
     "metadata": {
      "needs_background": "light"
     },
     "output_type": "display_data"
    }
   ],
   "source": [
    "k = 20\n",
    "pca = PCA(n_components = k)\n",
    "pca.fit(xtrain, ytrain)\n",
    "plt.bar(np.arange(k), pca.explained_variance_ratio_)\n",
    "\n",
    "xtrain_pca = pca.transform(xtrain)\n",
    "xtest_pca = pca.transform(xtest)"
   ]
  },
  {
   "cell_type": "code",
   "execution_count": 37,
   "metadata": {
    "scrolled": true
   },
   "outputs": [
    {
     "data": {
      "text/plain": [
       "<BarContainer object of 70 artists>"
      ]
     },
     "execution_count": 37,
     "metadata": {},
     "output_type": "execute_result"
    },
    {
     "data": {
      "image/png": "[encoded data removed]",
      "text/plain": [
       "<Figure size 432x288 with 1 Axes>"
      ]
     },
     "metadata": {
      "needs_background": "light"
     },
     "output_type": "display_data"
    }
   ],
   "source": [
    " plt.bar(np.arange(70), pca.components_[0, :])"
   ]
  },
  {
   "cell_type": "markdown",
   "metadata": {},
   "source": [
    "Il ne semble pas..."
   ]
  },
  {
   "cell_type": "markdown",
   "metadata": {},
   "source": [
    "## Validation croisée sur poids des événements météorologiques"
   ]
  },
  {
   "cell_type": "code",
   "execution_count": 38,
   "metadata": {
    "scrolled": false
   },
   "outputs": [
    {
     "name": "stdout",
     "output_type": "stream",
     "text": [
      "Test de (0.5, 0.5)\n",
      "Score : 0.430 +/- 0.014\n",
      "Test de (0.5, 1)\n",
      "Score : 0.434 +/- 0.016\n",
      "Test de (0.7, 1)\n",
      "Score : 0.433 +/- 0.028\n",
      "Test de (3, 3)\n",
      "Score : 0.438 +/- 0.017\n",
      "Test de (0, 1)\n",
      "Score : 0.436 +/- 0.025\n",
      "Test de (1, 0)\n",
      "Score : 0.434 +/- 0.026\n",
      "Test de (0, 0)\n",
      "Score : 0.431 +/- 0.016\n"
     ]
    }
   ],
   "source": [
    "from sklearn.model_selection import KFold\n",
    "\n",
    "xgparams = {'learning_rate': 0.1, 'max_depth': 3, 'n_estimators': 100}\n",
    "kf = KFold(n_splits = 5, shuffle = True)\n",
    "\n",
    "# on va tester ces poids pour notre nouvelle variable 'meteo'\n",
    "weights = [(0.5, 0.5), (0.5, 1), (0.7, 1), (3, 3), (0, 1), (1, 0), (0, 0)]\n",
    "\n",
    "for w in weights:\n",
    "    new_data = ohe_df(merge_meteo(train, w))['result']\n",
    "    w_score = []\n",
    "    print(\"Test de ({}, {})\".format(*w))\n",
    "    # on teste en ajustant un modèle XGBoost, par validation croisée\n",
    "    for idtrain, idtest in kf.split(new_data, y):\n",
    "        xgb = XGBClassifier(**xgparams)\n",
    "        xgb.fit(new_data[idtrain], y[idtrain])\n",
    "        p = xgb.predict_proba(new_data[idtest])[:,1]\n",
    "        score = gini_normalized(y[idtest], p)\n",
    "        w_score.append(score)\n",
    "    w_score = np.array(w_score)\n",
    "    print(\"Score : {:1.3f} +/- {:1.3f}\".format(w_score.mean(), w_score.std()))"
   ]
  },
  {
   "cell_type": "markdown",
   "metadata": {},
   "source": [
    "***Résultat*** : Définitivement aucun intérêt..."
   ]
  },
  {
   "cell_type": "markdown",
   "metadata": {},
   "source": [
    "## Ajustement de modèles"
   ]
  },
  {
   "cell_type": "code",
   "execution_count": 39,
   "metadata": {},
   "outputs": [
    {
     "data": {
      "text/plain": [
       "0.4380086830037418"
      ]
     },
     "execution_count": 39,
     "metadata": {},
     "output_type": "execute_result"
    }
   ],
   "source": [
    "xgb_model = XGBClassifier()\n",
    "xgb_model.fit(xtrain, ytrain)\n",
    "\n",
    "p1 = xgb_model.predict_proba(xtest, validate_features = False)[:,1]\n",
    "gini_normalized(ytest, p1)"
   ]
  },
  {
   "cell_type": "code",
   "execution_count": 40,
   "metadata": {},
   "outputs": [],
   "source": [
    "test_meteo = merge_meteo(test)\n",
    "xtest_real = ohe_df(test_meteo)['result']\n",
    "\n",
    "# Soumission\n",
    "proba = xgb_model.predict_proba(xtest_real, validate_features = False)[:,1]\n",
    "pd.DataFrame(dict(Identifiant = test[\"Identifiant\"], target = proba)).to_csv(\"sub2.csv\")"
   ]
  },
  {
   "cell_type": "markdown",
   "metadata": {},
   "source": [
    "Grid search à nouveau :"
   ]
  },
  {
   "cell_type": "code",
   "execution_count": 41,
   "metadata": {},
   "outputs": [
    {
     "data": {
      "text/plain": [
       "0.4360405725008606"
      ]
     },
     "execution_count": 41,
     "metadata": {},
     "output_type": "execute_result"
    }
   ],
   "source": [
    "search = GridSearchCV(XGBClassifier(), n_jobs = 4, cv = 5, return_train_score = False, param_grid = dict(\n",
    "    max_depth = [2, 3, 5],\n",
    "    n_estimators = [50, 100, 200],\n",
    "    learning_rate = [0.01, 0.05, 0.1],\n",
    "))\n",
    "search.fit(xtrain, ytrain)\n",
    "\n",
    "p1 = search.best_estimator_.predict_proba(xtest)[:,1]\n",
    "gini_normalized(ytest, p1)"
   ]
  },
  {
   "cell_type": "code",
   "execution_count": 42,
   "metadata": {
    "scrolled": true
   },
   "outputs": [
    {
     "data": {
      "text/plain": [
       "{'learning_rate': 0.1, 'max_depth': 2, 'n_estimators': 50}"
      ]
     },
     "execution_count": 42,
     "metadata": {},
     "output_type": "execute_result"
    }
   ],
   "source": [
    "search.best_params_"
   ]
  },
  {
   "cell_type": "code",
   "execution_count": 43,
   "metadata": {},
   "outputs": [],
   "source": [
    "proba = search.best_estimator_.predict_proba(xtest_real, validate_features = False)[:,1]\n",
    "pd.DataFrame(dict(Identifiant = test[\"Identifiant\"], target = proba)).to_csv(\"sub3.csv\")"
   ]
  }
 ],
 "metadata": {
  "kernelspec": {
   "display_name": "Python 3",
   "language": "python",
   "name": "python3"
  },
  "language_info": {
   "codemirror_mode": {
    "name": "ipython",
    "version": 3
   },
   "file_extension": ".py",
   "mimetype": "text/x-python",
   "name": "python",
   "nbconvert_exporter": "python",
   "pygments_lexer": "ipython3",
   "version": "3.7.3"
  }
 },
 "nbformat": 4,
 "nbformat_minor": 2
}
